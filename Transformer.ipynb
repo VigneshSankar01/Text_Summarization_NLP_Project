{
  "metadata": {
    "kernelspec": {
      "name": "python3",
      "display_name": "Python 3",
      "language": "python"
    },
    "language_info": {
      "name": "python",
      "version": "3.10.14",
      "mimetype": "text/x-python",
      "codemirror_mode": {
        "name": "ipython",
        "version": 3
      },
      "pygments_lexer": "ipython3",
      "nbconvert_exporter": "python",
      "file_extension": ".py"
    },
    "colab": {
      "provenance": []
    },
    "kaggle": {
      "accelerator": "gpu",
      "dataSources": [
        {
          "sourceId": 32267,
          "sourceType": "datasetVersion",
          "datasetId": 24984
        },
        {
          "sourceId": 10001609,
          "sourceType": "datasetVersion",
          "datasetId": 6156304
        }
      ],
      "dockerImageVersionId": 30805,
      "isInternetEnabled": true,
      "language": "python",
      "sourceType": "notebook",
      "isGpuEnabled": true
    }
  },
  "nbformat_minor": 0,
  "nbformat": 4,
  "cells": [
    {
      "cell_type": "markdown",
      "source": [
        "\n",
        "<h1>Transformer for Text Summarization with the BBC  Summary Dataset</h1>\n",
        "\n"
      ],
      "metadata": {
        "id": "KxZquOZpdLtD"
      }
    },
    {
      "cell_type": "markdown",
      "source": [
        "<h2>Install Dependencies</h2>"
      ],
      "metadata": {
        "id": "-5F-amOqbdS9"
      }
    },
    {
      "cell_type": "code",
      "source": [
        "!pip3 install torch torchvision"
      ],
      "metadata": {
        "colab": {
          "base_uri": "https://localhost:8080/"
        },
        "id": "YOj5MT5f8bXs",
        "outputId": "97aa6226-51cf-48b4-ccc4-2e3dee2d3d6c",
        "trusted": true,
        "execution": {
          "iopub.status.busy": "2024-12-09T21:47:13.573448Z",
          "iopub.execute_input": "2024-12-09T21:47:13.573707Z",
          "iopub.status.idle": "2024-12-09T21:47:22.975556Z",
          "shell.execute_reply.started": "2024-12-09T21:47:13.573679Z",
          "shell.execute_reply": "2024-12-09T21:47:22.974434Z"
        }
      },
      "outputs": [
        {
          "name": "stdout",
          "text": "Requirement already satisfied: torch in /opt/conda/lib/python3.10/site-packages (2.4.0)\nRequirement already satisfied: torchvision in /opt/conda/lib/python3.10/site-packages (0.19.0)\nRequirement already satisfied: filelock in /opt/conda/lib/python3.10/site-packages (from torch) (3.15.1)\nRequirement already satisfied: typing-extensions>=4.8.0 in /opt/conda/lib/python3.10/site-packages (from torch) (4.12.2)\nRequirement already satisfied: sympy in /opt/conda/lib/python3.10/site-packages (from torch) (1.13.3)\nRequirement already satisfied: networkx in /opt/conda/lib/python3.10/site-packages (from torch) (3.3)\nRequirement already satisfied: jinja2 in /opt/conda/lib/python3.10/site-packages (from torch) (3.1.4)\nRequirement already satisfied: fsspec in /opt/conda/lib/python3.10/site-packages (from torch) (2024.6.0)\nRequirement already satisfied: numpy in /opt/conda/lib/python3.10/site-packages (from torchvision) (1.26.4)\nRequirement already satisfied: pillow!=8.3.*,>=5.3.0 in /opt/conda/lib/python3.10/site-packages (from torchvision) (10.3.0)\nRequirement already satisfied: MarkupSafe>=2.0 in /opt/conda/lib/python3.10/site-packages (from jinja2->torch) (2.1.5)\nRequirement already satisfied: mpmath<1.4,>=1.1.0 in /opt/conda/lib/python3.10/site-packages (from sympy->torch) (1.3.0)\n",
          "output_type": "stream"
        }
      ],
      "execution_count": null
    },
    {
      "cell_type": "markdown",
      "source": [
        "<h2>Import Necessary Libraries</h2>"
      ],
      "metadata": {
        "id": "uwO9YllvGW6q"
      }
    },
    {
      "cell_type": "code",
      "source": [
        "# Imports\n",
        "import torch\n",
        "import torch.nn as nn\n",
        "import torch.nn.functional as F\n",
        "import torch.optim as optim\n",
        "from torch.utils.data import DataLoader, Dataset\n",
        "from torch.nn.utils.rnn import pad_sequence\n",
        "from spacy.tokenizer import Tokenizer\n",
        "from sklearn.model_selection import train_test_split\n",
        "import spacy\n",
        "import pandas as pd\n",
        "import numpy as np\n",
        "import os\n",
        "import re\n",
        "from nltk.corpus import stopwords\n",
        "import random\n",
        "from tqdm import tqdm\n",
        "import math"
      ],
      "metadata": {
        "id": "e_ql4cOf8ns0",
        "trusted": true,
        "execution": {
          "iopub.status.busy": "2024-12-09T21:47:22.980065Z",
          "iopub.execute_input": "2024-12-09T21:47:22.980710Z",
          "iopub.status.idle": "2024-12-09T21:47:29.698477Z",
          "shell.execute_reply.started": "2024-12-09T21:47:22.980668Z",
          "shell.execute_reply": "2024-12-09T21:47:29.697567Z"
        }
      },
      "outputs": [],
      "execution_count": null
    },
    {
      "cell_type": "markdown",
      "source": [
        "<h2>Instantiate the Tokenizer using Spacy</h2>"
      ],
      "metadata": {
        "id": "eeU1UnoMGW6q"
      }
    },
    {
      "cell_type": "code",
      "source": [
        "# Tokenizer using spacy\n",
        "nlp = spacy.load(\"en_core_web_sm\")\n",
        "tokenizer = Tokenizer(nlp.vocab)"
      ],
      "metadata": {
        "id": "xRe24HqH80Ki",
        "trusted": true,
        "execution": {
          "iopub.status.busy": "2024-12-09T21:47:29.699967Z",
          "iopub.execute_input": "2024-12-09T21:47:29.700421Z",
          "iopub.status.idle": "2024-12-09T21:47:30.411127Z",
          "shell.execute_reply.started": "2024-12-09T21:47:29.700393Z",
          "shell.execute_reply": "2024-12-09T21:47:30.410309Z"
        }
      },
      "outputs": [],
      "execution_count": null
    },
    {
      "cell_type": "markdown",
      "source": [
        "<h2>Define a custom function to create a dataframe from the text files</h2>\n"
      ],
      "metadata": {
        "id": "e0rEWzZaGb59"
      }
    },
    {
      "cell_type": "code",
      "source": [
        "# Add data from files into dataframe for easier access\n",
        "def create_dataframe(source_text_path,target_text_path):\n",
        "    txt_files_source = [file for file in os.listdir(source_text_path) if file.endswith('.txt')]\n",
        "    txt_files_target = [file for file in os.listdir(target_text_path) if file.endswith('.txt')]\n",
        "    df = pd.DataFrame(columns=['headlines','text'])\n",
        "    for source,target in zip(txt_files_source,txt_files_target):\n",
        "        assert source==target\n",
        "        source_file_path = os.path.join(source_text_path, source)\n",
        "        target_file_path = os.path.join(target_text_path, target)\n",
        "        # Read the content of the file\n",
        "        with open(source_file_path,'r',encoding='latin-1') as file:\n",
        "            source_text = file.read()\n",
        "        with open(target_file_path,'r',encoding='latin-1') as file:\n",
        "            target_text = file.read()\n",
        "        df.loc[len(df.index)] = [source_text,target_text]\n",
        "    return df"
      ],
      "metadata": {
        "id": "vAVdTzzQ83Ww",
        "trusted": true,
        "execution": {
          "iopub.status.busy": "2024-12-09T21:47:33.180932Z",
          "iopub.execute_input": "2024-12-09T21:47:33.181759Z",
          "iopub.status.idle": "2024-12-09T21:47:33.187762Z",
          "shell.execute_reply.started": "2024-12-09T21:47:33.181727Z",
          "shell.execute_reply": "2024-12-09T21:47:33.186730Z"
        }
      },
      "outputs": [],
      "execution_count": null
    },
    {
      "cell_type": "markdown",
      "source": [
        "<h2>Define functions to save the weights, load them and check for accuracy</h2>\n"
      ],
      "metadata": {
        "id": "RkSM23SzGeo4"
      }
    },
    {
      "cell_type": "code",
      "source": [
        "# Check accuracy function\n",
        "def check_accuracy(output,labels):\n",
        "    _ , predpos = output.max(1)\n",
        "    num_samples=len(labels)\n",
        "    num_correct=(predpos==labels).sum()\n",
        "    return (num_correct/num_samples)*100\n",
        "\n",
        "# Save checkpoint\n",
        "def save_checkpoint(state,filename='weights.pth.tar'):\n",
        "    print('Saving weights-->')\n",
        "    torch.save(state,filename)\n",
        "\n",
        "# Load checkpoint\n",
        "def load_checkpoint(checkpoint,model,optim):\n",
        "    print('Loading weights-->')\n",
        "    model.load_state_dict(checkpoint['state_dict'])\n",
        "    optim.load_state_dict(checkpoint['optimizer'])"
      ],
      "metadata": {
        "id": "rJExg3-B873i",
        "trusted": true,
        "execution": {
          "iopub.status.busy": "2024-12-09T21:47:38.960182Z",
          "iopub.execute_input": "2024-12-09T21:47:38.960518Z",
          "iopub.status.idle": "2024-12-09T21:47:38.965666Z",
          "shell.execute_reply.started": "2024-12-09T21:47:38.960487Z",
          "shell.execute_reply": "2024-12-09T21:47:38.964806Z"
        }
      },
      "outputs": [],
      "execution_count": null
    },
    {
      "cell_type": "markdown",
      "source": [
        "<h2>Create dataframes for all the folders with Text Paragraphs and Summaries in our dataset</h2>"
      ],
      "metadata": {
        "id": "QO3wyjSPGnZA"
      }
    },
    {
      "cell_type": "code",
      "source": [
        "import os\n",
        "import pandas as pd\n",
        "\n",
        "def create_dataframe(source_text_path, target_text_path):\n",
        "    \"\"\"\n",
        "    Add data from files into dataframe for easier access.\n",
        "    Assumes files in both directories are ordered and correspond by index.\n",
        "    \"\"\"\n",
        "    txt_files_source = [file for file in os.listdir(source_text_path) if file.endswith('.txt')]\n",
        "    txt_files_target = [file for file in os.listdir(target_text_path) if file.endswith('.txt')]\n",
        "\n",
        "    # Instead of asserting equality, ensure both lists have the same length\n",
        "    assert len(txt_files_source) == len(txt_files_target), \"Mismatched number of files in source and target directories.\"\n",
        "\n",
        "    df = pd.DataFrame(columns=['headlines', 'text'])\n",
        "    for i in range(len(txt_files_source)):\n",
        "        source_file_path = os.path.join(source_text_path, txt_files_source[i])\n",
        "        target_file_path = os.path.join(target_text_path, txt_files_target[i])\n",
        "\n",
        "        # Read the content of the files\n",
        "        with open(source_file_path, 'r', encoding='latin-1') as file:\n",
        "            source_text = file.read()\n",
        "        with open(target_file_path, 'r', encoding='latin-1') as file:\n",
        "            target_text = file.read()\n",
        "\n",
        "        df.loc[len(df.index)] = [source_text, target_text]\n",
        "\n",
        "    return df"
      ],
      "metadata": {
        "id": "_dT1koY2PnwN",
        "trusted": true,
        "execution": {
          "iopub.status.busy": "2024-12-09T21:47:42.315507Z",
          "iopub.execute_input": "2024-12-09T21:47:42.315856Z",
          "iopub.status.idle": "2024-12-09T21:47:42.322782Z",
          "shell.execute_reply.started": "2024-12-09T21:47:42.315825Z",
          "shell.execute_reply": "2024-12-09T21:47:42.321845Z"
        }
      },
      "outputs": [],
      "execution_count": null
    },
    {
      "cell_type": "code",
      "source": [
        "df1 = create_dataframe(\"/kaggle/input/bbc-news-summary/BBC News Summary/News Articles/business\",\"/kaggle/input/bbc-news-summary/BBC News Summary/Summaries/business\")\n",
        "df2 = create_dataframe(\"/kaggle/input/bbc-news-summary/BBC News Summary/News Articles/entertainment\",\"/kaggle/input/bbc-news-summary/BBC News Summary/Summaries/entertainment\")\n",
        "df3 = create_dataframe(\"/kaggle/input/bbc-news-summary/BBC News Summary/News Articles/politics\",\"/kaggle/input/bbc-news-summary/BBC News Summary/Summaries/politics\")\n",
        "df4 = create_dataframe(\"/kaggle/input/bbc-news-summary/BBC News Summary/News Articles/sport\",\"/kaggle/input/bbc-news-summary/BBC News Summary/Summaries/sport\")\n",
        "df5 = create_dataframe(\"/kaggle/input/bbc-news-summary/BBC News Summary/News Articles/tech\",\"/kaggle/input/bbc-news-summary/BBC News Summary/Summaries/tech\")"
      ],
      "metadata": {
        "trusted": true,
        "execution": {
          "iopub.status.busy": "2024-12-09T21:47:45.523826Z",
          "iopub.execute_input": "2024-12-09T21:47:45.524189Z",
          "iopub.status.idle": "2024-12-09T21:48:50.151495Z",
          "shell.execute_reply.started": "2024-12-09T21:47:45.524156Z",
          "shell.execute_reply": "2024-12-09T21:48:50.150779Z"
        },
        "id": "kEreq9UhGW6r"
      },
      "outputs": [],
      "execution_count": null
    },
    {
      "cell_type": "markdown",
      "source": [
        "<h2>Combine all the dataframes into one dataframe</h2>\n"
      ],
      "metadata": {
        "id": "EYufkoocGsrN"
      }
    },
    {
      "cell_type": "code",
      "source": [
        "df = pd.concat([df1, df2, df3, df4, df5], ignore_index=True)\n"
      ],
      "metadata": {
        "id": "tj8rK9SaPxWU",
        "trusted": true,
        "execution": {
          "iopub.status.busy": "2024-12-09T21:48:55.039375Z",
          "iopub.execute_input": "2024-12-09T21:48:55.039717Z",
          "iopub.status.idle": "2024-12-09T21:48:55.044881Z",
          "shell.execute_reply.started": "2024-12-09T21:48:55.039682Z",
          "shell.execute_reply": "2024-12-09T21:48:55.043966Z"
        }
      },
      "outputs": [],
      "execution_count": null
    },
    {
      "cell_type": "markdown",
      "source": [
        "<h2>Split the data into train and test set</h2>\n"
      ],
      "metadata": {
        "id": "TlpMA6y8GwRF"
      }
    },
    {
      "cell_type": "code",
      "source": [
        "# Split into train and test sets\n",
        "df = df.rename(columns = {\"headlines\":\"source_text\",\"text\":\"summary_text\"})\n",
        "X,Y = df[\"source_text\"],df[\"summary_text\"]\n",
        "X_train, X_test, Y_train, Y_test = train_test_split(X, Y, test_size=0.2, random_state=42)\n",
        "train_df = pd.DataFrame({'source_text': X_train, 'summary_text': Y_train})\n",
        "test_df = pd.DataFrame({'source_text': X_test, 'summary_text': Y_test})"
      ],
      "metadata": {
        "id": "JB5p9o79NHjW",
        "trusted": true,
        "execution": {
          "iopub.status.busy": "2024-12-09T21:48:57.948896Z",
          "iopub.execute_input": "2024-12-09T21:48:57.949741Z",
          "iopub.status.idle": "2024-12-09T21:48:57.962545Z",
          "shell.execute_reply.started": "2024-12-09T21:48:57.949699Z",
          "shell.execute_reply": "2024-12-09T21:48:57.961741Z"
        }
      },
      "outputs": [],
      "execution_count": null
    },
    {
      "cell_type": "markdown",
      "source": [
        "<h2>Add contraction mapping</h2>\n"
      ],
      "metadata": {
        "id": "6kDh0xq4Gysg"
      }
    },
    {
      "cell_type": "code",
      "source": [
        "contraction_mapping = {\"ain't\": \"is not\", \"aren't\": \"are not\",\"can't\": \"cannot\", \"'cause\": \"because\", \"could've\": \"could have\", \"couldn't\": \"could not\",\n",
        "\n",
        "                           \"didn't\": \"did not\", \"doesn't\": \"does not\", \"don't\": \"do not\", \"hadn't\": \"had not\", \"hasn't\": \"has not\", \"haven't\": \"have not\",\n",
        "\n",
        "                           \"he'd\": \"he would\",\"he'll\": \"he will\", \"he's\": \"he is\", \"how'd\": \"how did\", \"how'd'y\": \"how do you\", \"how'll\": \"how will\", \"how's\": \"how is\",\n",
        "\n",
        "                           \"I'd\": \"I would\", \"I'd've\": \"I would have\", \"I'll\": \"I will\", \"I'll've\": \"I will have\",\"I'm\": \"I am\", \"I've\": \"I have\", \"i'd\": \"i would\",\n",
        "\n",
        "                           \"i'd've\": \"i would have\", \"i'll\": \"i will\",  \"i'll've\": \"i will have\",\"i'm\": \"i am\", \"i've\": \"i have\", \"isn't\": \"is not\", \"it'd\": \"it would\",\n",
        "\n",
        "                           \"it'd've\": \"it would have\", \"it'll\": \"it will\", \"it'll've\": \"it will have\",\"it's\": \"it is\", \"let's\": \"let us\", \"ma'am\": \"madam\",\n",
        "\n",
        "                           \"mayn't\": \"may not\", \"might've\": \"might have\",\"mightn't\": \"might not\",\"mightn't've\": \"might not have\", \"must've\": \"must have\",\n",
        "\n",
        "                           \"mustn't\": \"must not\", \"mustn't've\": \"must not have\", \"needn't\": \"need not\", \"needn't've\": \"need not have\",\"o'clock\": \"of the clock\",\n",
        "\n",
        "                           \"oughtn't\": \"ought not\", \"oughtn't've\": \"ought not have\", \"shan't\": \"shall not\", \"sha'n't\": \"shall not\", \"shan't've\": \"shall not have\",\n",
        "\n",
        "                           \"she'd\": \"she would\", \"she'd've\": \"she would have\", \"she'll\": \"she will\", \"she'll've\": \"she will have\", \"she's\": \"she is\",\n",
        "\n",
        "                           \"should've\": \"should have\", \"shouldn't\": \"should not\", \"shouldn't've\": \"should not have\", \"so've\": \"so have\",\"so's\": \"so as\",\n",
        "\n",
        "                           \"this's\": \"this is\",\"that'd\": \"that would\", \"that'd've\": \"that would have\", \"that's\": \"that is\", \"there'd\": \"there would\",\n",
        "\n",
        "                           \"there'd've\": \"there would have\", \"there's\": \"there is\", \"here's\": \"here is\",\"they'd\": \"they would\", \"they'd've\": \"they would have\",\n",
        "\n",
        "                           \"they'll\": \"they will\", \"they'll've\": \"they will have\", \"they're\": \"they are\", \"they've\": \"they have\", \"to've\": \"to have\",\n",
        "\n",
        "                           \"wasn't\": \"was not\", \"we'd\": \"we would\", \"we'd've\": \"we would have\", \"we'll\": \"we will\", \"we'll've\": \"we will have\", \"we're\": \"we are\",\n",
        "\n",
        "                           \"we've\": \"we have\", \"weren't\": \"were not\", \"what'll\": \"what will\", \"what'll've\": \"what will have\", \"what're\": \"what are\",\n",
        "\n",
        "                           \"what's\": \"what is\", \"what've\": \"what have\", \"when's\": \"when is\", \"when've\": \"when have\", \"where'd\": \"where did\", \"where's\": \"where is\",\n",
        "\n",
        "                           \"where've\": \"where have\", \"who'll\": \"who will\", \"who'll've\": \"who will have\", \"who's\": \"who is\", \"who've\": \"who have\",\n",
        "\n",
        "                           \"why's\": \"why is\", \"why've\": \"why have\", \"will've\": \"will have\", \"won't\": \"will not\", \"won't've\": \"will not have\",\n",
        "\n",
        "                           \"would've\": \"would have\", \"wouldn't\": \"would not\", \"wouldn't've\": \"would not have\", \"y'all\": \"you all\",\n",
        "\n",
        "                           \"y'all'd\": \"you all would\",\"y'all'd've\": \"you all would have\",\"y'all're\": \"you all are\",\"y'all've\": \"you all have\",\n",
        "\n",
        "                           \"you'd\": \"you would\", \"you'd've\": \"you would have\", \"you'll\": \"you will\", \"you'll've\": \"you will have\",\n",
        "\n",
        "                           \"you're\": \"you are\", \"you've\": \"you have\"}\n",
        "\n",
        "\n",
        "stop_words = set(stopwords.words('english'))"
      ],
      "metadata": {
        "id": "vRsOJLyAN_MV",
        "trusted": true,
        "execution": {
          "iopub.status.busy": "2024-12-09T21:48:59.840268Z",
          "iopub.execute_input": "2024-12-09T21:48:59.840866Z",
          "iopub.status.idle": "2024-12-09T21:48:59.855213Z",
          "shell.execute_reply.started": "2024-12-09T21:48:59.840833Z",
          "shell.execute_reply": "2024-12-09T21:48:59.854292Z"
        }
      },
      "outputs": [],
      "execution_count": null
    },
    {
      "cell_type": "markdown",
      "source": [
        "<h2>Clean the text for punctuations and remove stop words</h2>\n"
      ],
      "metadata": {
        "id": "dYwNUvWGG2wA"
      }
    },
    {
      "cell_type": "code",
      "source": [
        "def text_cleaner(text):\n",
        "    newString = text.lower()\n",
        "    newString = newString.replace('\"', \"'\")\n",
        "    newString = re.sub(r'\\([^)]*\\)', '', newString)\n",
        "    newString = re.sub('\"','', newString)\n",
        "    newString = ' '.join([contraction_mapping[t] if t in contraction_mapping else t for t in newString.split(\" \")])\n",
        "    newString = re.sub(r\"'s\\b\",\"\",newString)\n",
        "    newString = re.sub(\"[^a-zA-Z]\", \" \", newString)\n",
        "    tokens = [w for w in newString.split() if not w in stop_words]\n",
        "    return \" \".join(tokens)"
      ],
      "metadata": {
        "id": "bwg055pGMhyO",
        "trusted": true,
        "execution": {
          "iopub.status.busy": "2024-12-09T21:49:04.099958Z",
          "iopub.execute_input": "2024-12-09T21:49:04.100382Z",
          "iopub.status.idle": "2024-12-09T21:49:04.105952Z",
          "shell.execute_reply.started": "2024-12-09T21:49:04.100334Z",
          "shell.execute_reply": "2024-12-09T21:49:04.104927Z"
        }
      },
      "outputs": [],
      "execution_count": null
    },
    {
      "cell_type": "markdown",
      "source": [
        "<h2>Tokenize and lower case using lower case the tokens for training and test set</h2>\n"
      ],
      "metadata": {
        "id": "pPdBtvulG9bO"
      }
    },
    {
      "cell_type": "code",
      "source": [
        "# Tokenize and lowercase text using spacy\n",
        "train_df['source_text'] = train_df['source_text'].apply(lambda x: [token.text.lower() for token in tokenizer(text_cleaner(x))])\n",
        "train_df['summary_text'] = train_df['summary_text'].apply(lambda x: [token.text.lower() for token in tokenizer(text_cleaner(x))])\n",
        "\n",
        "test_df['source_text'] = test_df['source_text'].apply(lambda x: [token.text.lower() for token in tokenizer(text_cleaner(x))])\n",
        "test_df['summary_text'] = test_df['summary_text'].apply(lambda x: [token.text.lower() for token in tokenizer(text_cleaner(x))])"
      ],
      "metadata": {
        "trusted": true,
        "execution": {
          "iopub.status.busy": "2024-12-09T21:49:06.619941Z",
          "iopub.execute_input": "2024-12-09T21:49:06.620315Z",
          "iopub.status.idle": "2024-12-09T21:49:09.113572Z",
          "shell.execute_reply.started": "2024-12-09T21:49:06.620277Z",
          "shell.execute_reply": "2024-12-09T21:49:09.112638Z"
        },
        "id": "raFMvkXAGW6s"
      },
      "outputs": [],
      "execution_count": null
    },
    {
      "cell_type": "markdown",
      "source": [
        "<h2>Add START and END tokens to the Summary</h2>\n"
      ],
      "metadata": {
        "id": "Sv0IOJ0XG__V"
      }
    },
    {
      "cell_type": "code",
      "source": [
        "# Add START AND END tokens to summary\n",
        "train_df['source_text'] = train_df['source_text'].apply(lambda x : ['_START_']+ x + ['_END_'])\n",
        "train_df['summary_text'] = train_df['summary_text'].apply(lambda x : ['_START_']+ x + ['_END_'])\n",
        "\n",
        "test_df['source_text'] = test_df['source_text'].apply(lambda x : ['_START_']+ x + ['_END_'])\n",
        "test_df['summary_text'] = test_df['summary_text'].apply(lambda x : ['_START_']+ x + ['_END_'])"
      ],
      "metadata": {
        "trusted": true,
        "execution": {
          "iopub.status.busy": "2024-12-09T21:49:09.115116Z",
          "iopub.execute_input": "2024-12-09T21:49:09.115387Z",
          "iopub.status.idle": "2024-12-09T21:49:09.165217Z",
          "shell.execute_reply.started": "2024-12-09T21:49:09.115361Z",
          "shell.execute_reply": "2024-12-09T21:49:09.164073Z"
        },
        "id": "xQjTcNO6GW6s"
      },
      "outputs": [],
      "execution_count": null
    },
    {
      "cell_type": "code",
      "source": [
        "train_df.head()\n"
      ],
      "metadata": {
        "trusted": true,
        "execution": {
          "iopub.status.busy": "2024-12-09T21:49:12.972892Z",
          "iopub.execute_input": "2024-12-09T21:49:12.973879Z",
          "iopub.status.idle": "2024-12-09T21:49:12.993652Z",
          "shell.execute_reply.started": "2024-12-09T21:49:12.973829Z",
          "shell.execute_reply": "2024-12-09T21:49:12.992701Z"
        },
        "id": "ord9Gyk1GW6s",
        "outputId": "4b6e5245-06f7-4d40-d567-403e6d04f929"
      },
      "outputs": [
        {
          "execution_count": 14,
          "output_type": "execute_result",
          "data": {
            "text/plain": "                                            source_text  \\\n1490  [_START_, ferguson, fears, milan, cutting, edg...   \n2001  [_START_, ask, jeeves, joins, web, log, market...   \n1572  [_START_, safin, cool, wimbledon, newly, crown...   \n1840  [_START_, mobiles, rack, years, use, mobile, p...   \n610   [_START_, eminem, secret, gig, venue, revealed...   \n\n                                           summary_text  \n1490  [_START_, loss, could, worse, quality, bring, ...  \n2001  [_START_, jim, lanzone, vice, president, searc...  \n1572  [_START_, expect, sampras, favourite, pressure...  \n1840  [_START_, cellnet, vodafone, mobile, phone, op...  \n610   [_START_, fourth, album, rap, star, sale, two,...  ",
            "text/html": "<div>\n<style scoped>\n    .dataframe tbody tr th:only-of-type {\n        vertical-align: middle;\n    }\n\n    .dataframe tbody tr th {\n        vertical-align: top;\n    }\n\n    .dataframe thead th {\n        text-align: right;\n    }\n</style>\n<table border=\"1\" class=\"dataframe\">\n  <thead>\n    <tr style=\"text-align: right;\">\n      <th></th>\n      <th>source_text</th>\n      <th>summary_text</th>\n    </tr>\n  </thead>\n  <tbody>\n    <tr>\n      <th>1490</th>\n      <td>[_START_, ferguson, fears, milan, cutting, edg...</td>\n      <td>[_START_, loss, could, worse, quality, bring, ...</td>\n    </tr>\n    <tr>\n      <th>2001</th>\n      <td>[_START_, ask, jeeves, joins, web, log, market...</td>\n      <td>[_START_, jim, lanzone, vice, president, searc...</td>\n    </tr>\n    <tr>\n      <th>1572</th>\n      <td>[_START_, safin, cool, wimbledon, newly, crown...</td>\n      <td>[_START_, expect, sampras, favourite, pressure...</td>\n    </tr>\n    <tr>\n      <th>1840</th>\n      <td>[_START_, mobiles, rack, years, use, mobile, p...</td>\n      <td>[_START_, cellnet, vodafone, mobile, phone, op...</td>\n    </tr>\n    <tr>\n      <th>610</th>\n      <td>[_START_, eminem, secret, gig, venue, revealed...</td>\n      <td>[_START_, fourth, album, rap, star, sale, two,...</td>\n    </tr>\n  </tbody>\n</table>\n</div>"
          },
          "metadata": {}
        }
      ],
      "execution_count": null
    },
    {
      "cell_type": "markdown",
      "source": [
        "<h2>Build vocabularies - each word has an index, note : words sorted in ascending order</h2>\n"
      ],
      "metadata": {
        "id": "WBuIbHgsHDDr"
      }
    },
    {
      "cell_type": "code",
      "source": [
        "# Build vocabularies - each word has an index, note : words sorted in ascending order\n",
        "all_tokens = train_df['source_text'].tolist() + train_df['summary_text'].tolist() + test_df['source_text'].tolist() + test_df['summary_text'].tolist()\n",
        "source_vocab = {actual_word: idx for idx, (word_num, actual_word) in enumerate(sorted(enumerate(set(token for tokens in all_tokens for token in tokens)), key=lambda x: x[1]))}\n",
        "target_vocab = {actual_word: idx for idx, (word_num, actual_word) in enumerate(sorted(enumerate(set(token for tokens in all_tokens for token in tokens)), key=lambda x: x[1]))}"
      ],
      "metadata": {
        "trusted": true,
        "execution": {
          "iopub.status.busy": "2024-12-09T21:49:15.558057Z",
          "iopub.execute_input": "2024-12-09T21:49:15.558427Z",
          "iopub.status.idle": "2024-12-09T21:49:15.763591Z",
          "shell.execute_reply.started": "2024-12-09T21:49:15.558394Z",
          "shell.execute_reply": "2024-12-09T21:49:15.762684Z"
        },
        "id": "lepfqS7YGW6s"
      },
      "outputs": [],
      "execution_count": null
    },
    {
      "cell_type": "markdown",
      "source": [
        "<h2>Switch to Kaggle GPU for faster training</h2>\n"
      ],
      "metadata": {
        "id": "WPtnjHK-HHwt"
      }
    },
    {
      "cell_type": "code",
      "source": [
        "# Set device\n",
        "device = torch.device('cuda' if torch.cuda.is_available() else 'cpu')\n",
        "print(\"Using\",device)"
      ],
      "metadata": {
        "trusted": true,
        "execution": {
          "iopub.status.busy": "2024-12-09T21:49:18.024946Z",
          "iopub.execute_input": "2024-12-09T21:49:18.025652Z",
          "iopub.status.idle": "2024-12-09T21:49:18.030193Z",
          "shell.execute_reply.started": "2024-12-09T21:49:18.025618Z",
          "shell.execute_reply": "2024-12-09T21:49:18.029220Z"
        },
        "id": "yKVtMDudGW6s",
        "outputId": "293adcda-6045-4629-95ac-cc7ac3ded02c"
      },
      "outputs": [
        {
          "name": "stdout",
          "text": "Using cuda\n",
          "output_type": "stream"
        }
      ],
      "execution_count": null
    },
    {
      "cell_type": "code",
      "source": [
        "temp = list(sorted(source_vocab.items()))\n",
        "for word, idx in temp[-5:]:\n",
        "    print(word,idx)"
      ],
      "metadata": {
        "trusted": true,
        "execution": {
          "iopub.status.busy": "2024-12-09T21:49:21.312362Z",
          "iopub.execute_input": "2024-12-09T21:49:21.312675Z",
          "iopub.status.idle": "2024-12-09T21:49:21.325684Z",
          "shell.execute_reply.started": "2024-12-09T21:49:21.312647Z",
          "shell.execute_reply": "2024-12-09T21:49:21.324746Z"
        },
        "id": "68iT_16rGW6t",
        "outputId": "1f16dedd-591a-464a-c820-089d1533974e"
      },
      "outputs": [
        {
          "name": "stdout",
          "text": "zuluaga 27632\nzurich 27633\nzutons 27634\nzvonareva 27635\nzvyagintsev 27636\n",
          "output_type": "stream"
        }
      ],
      "execution_count": null
    },
    {
      "cell_type": "markdown",
      "source": [
        "<h2>Converting words to their corresponding vocabulary indices.</h2>\n"
      ],
      "metadata": {
        "id": "XoDcKfHfHeym"
      }
    },
    {
      "cell_type": "code",
      "source": [
        "# Define a custom dataset class\n",
        "class CustomDataset(Dataset):\n",
        "    def __init__(self, source_texts, target_summaries, source_vocab, target_vocab):\n",
        "        self.source_texts = source_texts\n",
        "        self.target_summaries = target_summaries\n",
        "        self.source_vocab = source_vocab\n",
        "        self.target_vocab = target_vocab\n",
        "\n",
        "    def __len__(self):\n",
        "        return len(self.source_texts)\n",
        "\n",
        "    def __getitem__(self, idx):\n",
        "        source_text = [self.source_vocab[word] for word in self.source_texts[idx]]\n",
        "        target_summary = [self.target_vocab[word] for word in self.target_summaries[idx]]\n",
        "        return torch.tensor(source_text), torch.tensor(target_summary)"
      ],
      "metadata": {
        "trusted": true,
        "execution": {
          "iopub.status.busy": "2024-12-09T21:49:23.695353Z",
          "iopub.execute_input": "2024-12-09T21:49:23.696167Z",
          "iopub.status.idle": "2024-12-09T21:49:23.702489Z",
          "shell.execute_reply.started": "2024-12-09T21:49:23.696133Z",
          "shell.execute_reply": "2024-12-09T21:49:23.701636Z"
        },
        "id": "TQa7BoYEGW6t"
      },
      "outputs": [],
      "execution_count": null
    },
    {
      "cell_type": "markdown",
      "source": [
        "<h2>Create custom datasets</h2>"
      ],
      "metadata": {
        "id": "mNOuMPw5HhdY"
      }
    },
    {
      "cell_type": "code",
      "source": [
        "# Create custom datasets\n",
        "train_dataset = CustomDataset(train_df['source_text'].tolist(), train_df['summary_text'].tolist(),source_vocab, target_vocab)\n",
        "test_dataset = CustomDataset(test_df['source_text'].tolist(), test_df['summary_text'].tolist(),source_vocab, target_vocab)"
      ],
      "metadata": {
        "trusted": true,
        "execution": {
          "iopub.status.busy": "2024-12-09T21:49:26.048681Z",
          "iopub.execute_input": "2024-12-09T21:49:26.049453Z",
          "iopub.status.idle": "2024-12-09T21:49:26.053864Z",
          "shell.execute_reply.started": "2024-12-09T21:49:26.049415Z",
          "shell.execute_reply": "2024-12-09T21:49:26.053051Z"
        },
        "id": "9MzFNejWGW6t"
      },
      "outputs": [],
      "execution_count": null
    },
    {
      "cell_type": "markdown",
      "source": [
        "<h2>Get Maximum Sequence Length</h2>"
      ],
      "metadata": {
        "id": "krcpqp3jbO0V"
      }
    },
    {
      "cell_type": "code",
      "source": [
        "def get_max_seqlen():\n",
        "    max_length = 0\n",
        "    for index, row in train_df.iterrows():\n",
        "        # Calculate the length of the current row\n",
        "        row_length = len(row['source_text'])\n",
        "        # Update the maximum length if the current row length is greater\n",
        "        max_length = max(max_length, row_length)\n",
        "    for index, row in test_df.iterrows():\n",
        "        # Calculate the length of the current row\n",
        "        row_length = len(row['source_text'])\n",
        "        # Update the maximum length if the current row length is greater\n",
        "        max_length = max(max_length, row_length)\n",
        "    print(\"Max length in dataset \",max_length)\n",
        "    return max_length"
      ],
      "metadata": {
        "trusted": true,
        "execution": {
          "iopub.status.busy": "2024-12-09T21:49:29.605017Z",
          "iopub.execute_input": "2024-12-09T21:49:29.605376Z",
          "iopub.status.idle": "2024-12-09T21:49:29.610689Z",
          "shell.execute_reply.started": "2024-12-09T21:49:29.605346Z",
          "shell.execute_reply": "2024-12-09T21:49:29.609798Z"
        },
        "id": "ESEMjcW2GW6t"
      },
      "outputs": [],
      "execution_count": null
    },
    {
      "cell_type": "code",
      "source": [
        "print(get_max_seqlen())"
      ],
      "metadata": {
        "trusted": true,
        "execution": {
          "iopub.status.busy": "2024-12-09T21:52:30.358066Z",
          "iopub.execute_input": "2024-12-09T21:52:30.358661Z",
          "iopub.status.idle": "2024-12-09T21:52:30.448608Z",
          "shell.execute_reply.started": "2024-12-09T21:52:30.358629Z",
          "shell.execute_reply": "2024-12-09T21:52:30.447758Z"
        },
        "id": "gt3lM_ZebO0W",
        "outputId": "5dcccb4e-71a0-4807-804d-370c07accd04"
      },
      "outputs": [
        {
          "name": "stdout",
          "text": "Max length in dataset  1986\n1986\n",
          "output_type": "stream"
        }
      ],
      "execution_count": null
    },
    {
      "cell_type": "markdown",
      "source": [
        "<h2>Vocabulary Coverage Analysis Visualization</h2>"
      ],
      "metadata": {
        "id": "svYa-8R-bO0W"
      }
    },
    {
      "cell_type": "code",
      "source": [
        "from collections import Counter\n",
        "import matplotlib.pyplot as plt\n",
        "\n",
        "def plot_vocab_coverage(texts, title=\"Cumulative Vocabulary Coverage\"):\n",
        "    all_words = [word for text in texts for word in text]\n",
        "    word_counts = Counter(all_words)\n",
        "    sorted_words = sorted(word_counts.items(), key=lambda x: x[1], reverse=True)\n",
        "\n",
        "    cumulative_coverage = np.cumsum([count for word, count in sorted_words]) / len(all_words)\n",
        "\n",
        "    plt.figure(figsize=(6, 8))\n",
        "    plt.plot(range(1, len(cumulative_coverage) + 1), cumulative_coverage)\n",
        "\n",
        "    plt.title(title, fontsize=16)\n",
        "    plt.xlabel('Number of Unique Words (sorted by frequency)', fontsize=12)\n",
        "    plt.ylabel('Cumulative Coverage', fontsize=12)\n",
        "    plt.xscale('log')\n",
        "    plt.grid(True, which=\"both\", ls=\"--\", c='0.65')\n",
        "\n",
        "    # Add reference lines\n",
        "    coverage_levels = [0.5, 0.8, 0.9, 0.95]\n",
        "    for level in coverage_levels:\n",
        "        words_needed = np.argmax(cumulative_coverage >= level) + 1\n",
        "        plt.axhline(y=level, color='r', linestyle='--', alpha=0.5)\n",
        "        plt.axvline(x=words_needed, color='r', linestyle='--', alpha=0.5)\n",
        "        plt.text(words_needed, level, f' {words_needed} words\\n ({level:.0%})',\n",
        "                 verticalalignment='bottom', horizontalalignment='left')\n",
        "\n",
        "    # Add annotation for total vocabulary size\n",
        "    total_vocab = len(word_counts)\n",
        "    plt.text(0.95, 0.05, f'Total vocabulary: {total_vocab:,} words',\n",
        "             transform=plt.gca().transAxes, ha='right', va='bottom',\n",
        "             bbox=dict(boxstyle='round', facecolor='white', alpha=0.8))\n",
        "\n",
        "    plt.tight_layout()\n",
        "    plt.show()\n",
        "\n",
        "# Usage\n",
        "plot_vocab_coverage(train_df['source_text'], title=\"Cumulative Vocabulary Coverage in Input Sequences\")"
      ],
      "metadata": {
        "trusted": true,
        "execution": {
          "iopub.status.busy": "2024-12-09T21:51:54.369967Z",
          "iopub.execute_input": "2024-12-09T21:51:54.370926Z",
          "iopub.status.idle": "2024-12-09T21:51:55.135892Z",
          "shell.execute_reply.started": "2024-12-09T21:51:54.370892Z",
          "shell.execute_reply": "2024-12-09T21:51:55.135055Z"
        },
        "id": "hwiN8EIqbO0X",
        "outputId": "042a7b9d-2cff-43ca-ad3a-390d8eb84a6d"
      },
      "outputs": [
        {
          "output_type": "display_data",
          "data": {
            "text/plain": "<Figure size 600x800 with 1 Axes>",
            "image/png": "[encoded data removed]"
          },
          "metadata": {}
        }
      ],
      "execution_count": null
    },
    {
      "cell_type": "markdown",
      "source": [
        "<h2>Distribution of Sequence Lengths</h2>"
      ],
      "metadata": {
        "id": "oMNbV_71bO0Y"
      }
    },
    {
      "cell_type": "code",
      "source": [
        "def plot_sequence_lengths(data, title=\"Distribution of Sequence Lengths\"):\n",
        "    # Check if the elements are lists or strings\n",
        "    if isinstance(data[0], list):\n",
        "        lengths = [len(seq) for seq in data]\n",
        "    else:\n",
        "        lengths = [len(seq.split()) for seq in data]  # For string sequences\n",
        "\n",
        "    plt.figure(figsize=(6, 8))\n",
        "    n, bins, patches = plt.hist(lengths, bins=50, edgecolor='black')\n",
        "\n",
        "    # Add mean and median lines\n",
        "    mean_length = np.mean(lengths)\n",
        "    median_length = np.median(lengths)\n",
        "    plt.axvline(mean_length, color='r', linestyle='dashed', linewidth=2, label=f'Mean: {mean_length:.2f}')\n",
        "    plt.axvline(median_length, color='g', linestyle='dashed', linewidth=2, label=f'Median: {median_length:.2f}')\n",
        "\n",
        "    plt.title(title, fontsize=16)\n",
        "    plt.xlabel('Sequence Length (number of tokens)', fontsize=12)\n",
        "    plt.ylabel('Frequency', fontsize=12)\n",
        "    plt.legend()\n",
        "\n",
        "    # Add text with statistics\n",
        "    max_length = max(lengths)\n",
        "    min_length = min(lengths)\n",
        "    plt.text(0.95, 0.95, f'Max: {max_length}\\nMin: {min_length}',\n",
        "             transform=plt.gca().transAxes, va='top', ha='right',\n",
        "             bbox=dict(boxstyle='round', facecolor='white', alpha=0.5))\n",
        "\n",
        "    plt.tight_layout()\n",
        "    plt.show()\n",
        "\n",
        "# Usage\n",
        "plot_sequence_lengths(train_df['source_text'], title=\"Distribution of Input Sequence Lengths\")"
      ],
      "metadata": {
        "trusted": true,
        "execution": {
          "iopub.status.busy": "2024-12-09T21:51:59.363687Z",
          "iopub.execute_input": "2024-12-09T21:51:59.364080Z",
          "iopub.status.idle": "2024-12-09T21:52:00.041224Z",
          "shell.execute_reply.started": "2024-12-09T21:51:59.364049Z",
          "shell.execute_reply": "2024-12-09T21:52:00.040294Z"
        },
        "id": "IhfVWkvVbO0Y",
        "outputId": "8be7b613-81cd-4101-95b7-ca519f6cc341"
      },
      "outputs": [
        {
          "output_type": "display_data",
          "data": {
            "text/plain": "<Figure size 600x800 with 1 Axes>",
            "image/png": "[encoded data removed]"
          },
          "metadata": {}
        }
      ],
      "execution_count": null
    },
    {
      "cell_type": "markdown",
      "source": [
        "<h2>Define collate function for DataLoader</h2>\n"
      ],
      "metadata": {
        "id": "GXGKX7NkH1Oa"
      }
    },
    {
      "cell_type": "code",
      "source": [
        "# Define collate function for DataLoader\n",
        "def collate_fn(batch):\n",
        "    sources, targets = zip(*batch)\n",
        "    padded_sources = pad_sequence(sources, batch_first=True)\n",
        "    padded_targets = pad_sequence(targets, batch_first=True)\n",
        "    return padded_sources, padded_targets"
      ],
      "metadata": {
        "trusted": true,
        "execution": {
          "iopub.status.busy": "2024-11-27T02:58:24.580721Z",
          "iopub.execute_input": "2024-11-27T02:58:24.580956Z",
          "iopub.status.idle": "2024-11-27T02:58:24.593418Z",
          "shell.execute_reply.started": "2024-11-27T02:58:24.580933Z",
          "shell.execute_reply": "2024-11-27T02:58:24.592590Z"
        },
        "id": "cVmzCpzLGW6t"
      },
      "outputs": [],
      "execution_count": null
    },
    {
      "cell_type": "markdown",
      "source": [
        "<h2>Implement Multi-Head Attention</h2>"
      ],
      "metadata": {
        "id": "UuRWkuuAS2G-"
      }
    },
    {
      "cell_type": "code",
      "source": [
        "class MultiHeadAttention(nn.Module):\n",
        "    def __init__(self, embedding_dim, num_heads):\n",
        "        super(MultiHeadAttention,self).__init__()\n",
        "        assert embedding_dim % num_heads == 0, \"embedding_dim must be divisible by num_heads\"\n",
        "        self.embedding_dim = embedding_dim\n",
        "        self.num_heads = num_heads\n",
        "        self.dim_perhead = embedding_dim // num_heads\n",
        "\n",
        "        self.W_q = nn.Linear(embedding_dim, embedding_dim)\n",
        "        self.W_k = nn.Linear(embedding_dim, embedding_dim)\n",
        "        self.W_v = nn.Linear(embedding_dim, embedding_dim)\n",
        "        self.W_o = nn.Linear(embedding_dim, embedding_dim)\n",
        "\n",
        "    def scaled_dot_product_attention(self,Q,K,V,mask=None):\n",
        "        # Q,K,V Shape : [Batch_Size X Num_Heads X Seq_len X Dim Per Head]\n",
        "\n",
        "        K = K.transpose(-2,-1) # K = K.permute(0,1,3,2) also works\n",
        "        # K Shape(after permute) : [Batch_Size X Num_Heads X Dim Per Head X Seq_len]\n",
        "        attn_scores = torch.matmul(Q,K) / math.sqrt(self.dim_perhead)\n",
        "        # attn_scores Shape : [Batch_Size X Num_Heads X Seq_len X Seq_len]\n",
        "        if mask is not None:\n",
        "            attn_scores = attn_scores.masked_fill(mask == 0, -1e9)\n",
        "        attn_probs = torch.softmax(attn_scores, dim=-1)\n",
        "        # attn_probs Shape : [Batch_Size X Num_Heads X Seq_len X Seq_len]\n",
        "        output = torch.matmul(attn_probs, V)\n",
        "        # output Shape : [Batch_Size X Num_Heads X Seq_len X Dim Per Head]\n",
        "        return output\n",
        "\n",
        "    def split_heads(self, x):\n",
        "        # X shape : [Batch_Size X Seq_len X Embedding Dim]\n",
        "        batch_size, seq_length, d_model = x.size()\n",
        "        x = x.view(batch_size, seq_length,self.num_heads,self.dim_perhead)\n",
        "        # X shape : [Batch_Size X Seq_len X Num_Heads X Dim Per Head]\n",
        "        x = x.transpose(1,2)\n",
        "        # X shape : [Batch_Size X Num_Heads X Seq_len X Dim Per Head]\n",
        "        return x\n",
        "\n",
        "    def combine_heads(self, x):\n",
        "        # x Shape : [Batch_Size X Num_Heads X Seq_len X Dim Per Head]\n",
        "        batch_size, _, seq_length, dim_perhead = x.size()\n",
        "        x = x.transpose(1,2).contiguous()\n",
        "        # x Shape : [Batch_Size X Seq_len X Num_Heads X Dim Per Head]\n",
        "        x = x.view(batch_size, seq_length,self.embedding_dim)\n",
        "        # x Shape : [Batch_Size X Seq_len X Embedding Dim]\n",
        "        return x\n",
        "\n",
        "    def forward(self, Q, K, V, mask=None):\n",
        "        # Q,K,V Shape : [Batch_Size X Seq_len X Embedding Dim]\n",
        "        Q = self.split_heads(self.W_q(Q))\n",
        "        K = self.split_heads(self.W_k(K))\n",
        "        V = self.split_heads(self.W_v(V))\n",
        "        # Q,K,V Shape : [Batch_Size X Num_Heads X Seq_len X Dim Per Head]\n",
        "        attn_output = self.scaled_dot_product_attention(Q, K, V, mask)\n",
        "        # attn_output Shape : [Batch_Size X Num_Heads X Seq_len X Dim Per Head]\n",
        "        output = self.W_o(self.combine_heads(attn_output))\n",
        "        # output Shape :  # x Shape : [Batch_Size X Seq_len X Embedding Dim]\n",
        "        return output"
      ],
      "metadata": {
        "trusted": true,
        "execution": {
          "iopub.status.busy": "2024-11-27T02:58:24.594592Z",
          "iopub.execute_input": "2024-11-27T02:58:24.594918Z",
          "iopub.status.idle": "2024-11-27T02:58:24.604639Z",
          "shell.execute_reply.started": "2024-11-27T02:58:24.594892Z",
          "shell.execute_reply": "2024-11-27T02:58:24.603789Z"
        },
        "id": "QU1cVWG1GW6t"
      },
      "outputs": [],
      "execution_count": null
    },
    {
      "cell_type": "markdown",
      "source": [
        "<h2>Implement Position Wise Feed Forward Network and Add positional encoding</h2>"
      ],
      "metadata": {
        "id": "FLLI7sKHTMvJ"
      }
    },
    {
      "cell_type": "code",
      "source": [
        "class PositionWiseFeedForward(nn.Module):\n",
        "    def __init__(self, d_model, d_ff):\n",
        "        super(PositionWiseFeedForward, self).__init__()\n",
        "        self.fc1 = nn.Linear(d_model, d_ff)\n",
        "        self.fc2 = nn.Linear(d_ff, d_model)\n",
        "\n",
        "    def forward(self, x):\n",
        "        # shape does not change here\n",
        "        return self.fc2(F.relu(self.fc1(x)))\n",
        "\n",
        "\n",
        "class PositionalEncoding(nn.Module):\n",
        "    def __init__(self, d_model, max_seq_length):\n",
        "        super(PositionalEncoding, self).__init__()\n",
        "\n",
        "        pe = torch.zeros(max_seq_length, d_model)\n",
        "        position = torch.arange(0, max_seq_length,dtype=torch.float).unsqueeze(1)\n",
        "        div_term = torch.exp(torch.arange(0, d_model,2).float() * -(math.log(10000.0) / d_model))\n",
        "\n",
        "        pe[:, 0::2] = torch.sin(position * div_term)\n",
        "        pe[:, 1::2] = torch.cos(position * div_term)\n",
        "\n",
        "        self.register_buffer('pe',pe.unsqueeze(0))\n",
        "\n",
        "    def forward(self, x):\n",
        "        # shape does not change here, adding positional encoding information\n",
        "        return x + self.pe[:, :x.size(1)]"
      ],
      "metadata": {
        "trusted": true,
        "execution": {
          "iopub.status.busy": "2024-11-27T02:58:24.605725Z",
          "iopub.execute_input": "2024-11-27T02:58:24.606306Z",
          "iopub.status.idle": "2024-11-27T02:58:24.618776Z",
          "shell.execute_reply.started": "2024-11-27T02:58:24.606267Z",
          "shell.execute_reply": "2024-11-27T02:58:24.618048Z"
        },
        "id": "FuHAIqk0GW6t"
      },
      "outputs": [],
      "execution_count": null
    },
    {
      "cell_type": "markdown",
      "source": [
        "<h2>Define Encoder and Decoder for Transformer</h2>"
      ],
      "metadata": {
        "id": "wusxyfBJTdMf"
      }
    },
    {
      "cell_type": "code",
      "source": [
        "class EncoderLayer(nn.Module):\n",
        "    def __init__(self, d_model, num_heads, d_ff, dropout):\n",
        "        super(EncoderLayer, self).__init__()\n",
        "        self.self_attn = MultiHeadAttention(d_model, num_heads)\n",
        "        self.feed_forward = PositionWiseFeedForward(d_model, d_ff)\n",
        "        self.norm1 = nn.LayerNorm(d_model)\n",
        "        self.norm2 = nn.LayerNorm(d_model)\n",
        "        self.dropout = nn.Dropout(dropout)\n",
        "\n",
        "    def forward(self, x, mask):\n",
        "        # x shape [Batch_Size X Seq_len X Embedding Dim]\n",
        "        attn_output = self.self_attn(x, x, x,mask)\n",
        "        # attn_output shape [Batch_Size X Seq_len X Embedding Dim]\n",
        "        x = self.norm1(x + self.dropout(attn_output))\n",
        "        # x shape [Batch_Size X Seq_len X Embedding Dim]\n",
        "        ff_output = self.feed_forward(x)\n",
        "        # ff_output shape [Batch_Size X Seq_len X Embedding Dim]\n",
        "        x = self.norm2(x + self.dropout(ff_output))\n",
        "        # x shape [Batch_Size X Seq_len X Embedding Dim]\n",
        "        return x\n",
        "\n",
        "\n",
        "class DecoderLayer(nn.Module):\n",
        "    def __init__(self, d_model, num_heads, d_ff, dropout):\n",
        "        super(DecoderLayer, self).__init__()\n",
        "        self.self_attn = MultiHeadAttention(d_model, num_heads)\n",
        "        self.cross_attn = MultiHeadAttention(d_model, num_heads)\n",
        "        self.feed_forward = PositionWiseFeedForward(d_model, d_ff)\n",
        "        self.norm1 = nn.LayerNorm(d_model)\n",
        "        self.norm2 = nn.LayerNorm(d_model)\n",
        "        self.norm3 = nn.LayerNorm(d_model)\n",
        "        self.dropout = nn.Dropout(dropout)\n",
        "\n",
        "    def forward(self, x, enc_output, src_mask, tgt_mask):\n",
        "        attn_output = self.self_attn(x, x, x,tgt_mask)\n",
        "        x = self.norm1(x + self.dropout(attn_output))\n",
        "        attn_output = self.cross_attn(x,enc_output,enc_output,src_mask)\n",
        "        x = self.norm2(x + self.dropout(attn_output))\n",
        "        ff_output = self.feed_forward(x)\n",
        "        x = self.norm3(x + self.dropout(ff_output))\n",
        "        return x"
      ],
      "metadata": {
        "trusted": true,
        "execution": {
          "iopub.status.busy": "2024-11-27T02:58:24.619617Z",
          "iopub.execute_input": "2024-11-27T02:58:24.619854Z",
          "iopub.status.idle": "2024-11-27T02:58:24.630109Z",
          "shell.execute_reply.started": "2024-11-27T02:58:24.619831Z",
          "shell.execute_reply": "2024-11-27T02:58:24.629430Z"
        },
        "id": "MB1iZ3juGW6t"
      },
      "outputs": [],
      "execution_count": null
    },
    {
      "cell_type": "markdown",
      "source": [
        "<h2>Implement the Transformer</h2>"
      ],
      "metadata": {
        "id": "S5dkwV1iTr6m"
      }
    },
    {
      "cell_type": "code",
      "source": [
        "class Transformer(nn.Module):\n",
        "    def __init__(self, src_vocab_size, tgt_vocab_size, d_model, num_heads, num_layers, d_ff, max_seq_length, dropout):\n",
        "        super(Transformer, self).__init__()\n",
        "        self.encoder_embedding = nn.Embedding(src_vocab_size, d_model)\n",
        "        self.decoder_embedding = nn.Embedding(tgt_vocab_size, d_model)\n",
        "        self.positional_encoding = PositionalEncoding(d_model, max_seq_length)\n",
        "\n",
        "        self.encoder_layers = nn.ModuleList([EncoderLayer(d_model, num_heads, d_ff, dropout) for _ in range(num_layers)])\n",
        "        self.decoder_layers = nn.ModuleList([DecoderLayer(d_model, num_heads, d_ff, dropout) for _ in range(num_layers)])\n",
        "\n",
        "        self.fc = nn.Linear(d_model, tgt_vocab_size)\n",
        "        self.dropout = nn.Dropout(dropout)\n",
        "\n",
        "    def generate_mask(self, src, tgt):\n",
        "        src_mask = (src != 0).unsqueeze(1).unsqueeze(2)\n",
        "        tgt_mask = (tgt != 0).unsqueeze(1).unsqueeze(3)\n",
        "        seq_length = tgt.size(1)\n",
        "        nopeak_mask = (1 - torch.triu(torch.ones(1, seq_length, seq_length,device=device), diagonal=1)).bool()\n",
        "        tgt_mask = tgt_mask & nopeak_mask\n",
        "        return src_mask, tgt_mask\n",
        "\n",
        "    def forward(self, src, tgt):\n",
        "        src_mask, tgt_mask = self.generate_mask(src, tgt)\n",
        "        src_embedded = self.dropout(self.positional_encoding(self.encoder_embedding(src)))\n",
        "        tgt_embedded = self.dropout(self.positional_encoding(self.decoder_embedding(tgt)))\n",
        "\n",
        "        enc_output = src_embedded\n",
        "        for enc_layer in self.encoder_layers:\n",
        "            enc_output = enc_layer(enc_output, src_mask)\n",
        "\n",
        "        dec_output = tgt_embedded\n",
        "        for dec_layer in self.decoder_layers:\n",
        "            dec_output = dec_layer(dec_output, enc_output, src_mask, tgt_mask)\n",
        "\n",
        "        output = self.fc(dec_output)\n",
        "        return output"
      ],
      "metadata": {
        "trusted": true,
        "execution": {
          "iopub.status.busy": "2024-11-27T02:58:24.630994Z",
          "iopub.execute_input": "2024-11-27T02:58:24.631306Z",
          "iopub.status.idle": "2024-11-27T02:58:24.647824Z",
          "shell.execute_reply.started": "2024-11-27T02:58:24.631282Z",
          "shell.execute_reply": "2024-11-27T02:58:24.647144Z"
        },
        "id": "PnAK6mfAGW6t"
      },
      "outputs": [],
      "execution_count": null
    },
    {
      "cell_type": "markdown",
      "source": [
        "<h2>Initialize the parameters and call the model</h2>\n"
      ],
      "metadata": {
        "id": "aGuT9GJSTzm9"
      }
    },
    {
      "cell_type": "code",
      "source": [
        "src_vocab_size = len(source_vocab)\n",
        "tgt_vocab_size = len(target_vocab)\n",
        "d_model = 512\n",
        "num_heads = 8\n",
        "num_layers = 6\n",
        "d_ff = 2048\n",
        "max_seq_length = get_max_seqlen()\n",
        "dropout = 0.1\n",
        "num_workers = 2\n",
        "num_epochs = 20\n",
        "\n",
        "model = Transformer(src_vocab_size, tgt_vocab_size, d_model, num_heads, num_layers, d_ff, max_seq_length, dropout)\n",
        "print(model)"
      ],
      "metadata": {
        "trusted": true,
        "execution": {
          "iopub.status.busy": "2024-11-27T02:58:24.648753Z",
          "iopub.execute_input": "2024-11-27T02:58:24.649067Z",
          "iopub.status.idle": "2024-11-27T02:58:25.651015Z",
          "shell.execute_reply.started": "2024-11-27T02:58:24.649029Z",
          "shell.execute_reply": "2024-11-27T02:58:25.650005Z"
        },
        "id": "Lc1kSajAGW6u",
        "outputId": "e9ac5892-0f4f-41dc-8b9c-7473ddd99c30"
      },
      "outputs": [
        {
          "name": "stdout",
          "text": "Max length in dataset  1986\nTransformer(\n  (encoder_embedding): Embedding(27637, 512)\n  (decoder_embedding): Embedding(27637, 512)\n  (positional_encoding): PositionalEncoding()\n  (encoder_layers): ModuleList(\n    (0-5): 6 x EncoderLayer(\n      (self_attn): MultiHeadAttention(\n        (W_q): Linear(in_features=512, out_features=512, bias=True)\n        (W_k): Linear(in_features=512, out_features=512, bias=True)\n        (W_v): Linear(in_features=512, out_features=512, bias=True)\n        (W_o): Linear(in_features=512, out_features=512, bias=True)\n      )\n      (feed_forward): PositionWiseFeedForward(\n        (fc1): Linear(in_features=512, out_features=2048, bias=True)\n        (fc2): Linear(in_features=2048, out_features=512, bias=True)\n      )\n      (norm1): LayerNorm((512,), eps=1e-05, elementwise_affine=True)\n      (norm2): LayerNorm((512,), eps=1e-05, elementwise_affine=True)\n      (dropout): Dropout(p=0.1, inplace=False)\n    )\n  )\n  (decoder_layers): ModuleList(\n    (0-5): 6 x DecoderLayer(\n      (self_attn): MultiHeadAttention(\n        (W_q): Linear(in_features=512, out_features=512, bias=True)\n        (W_k): Linear(in_features=512, out_features=512, bias=True)\n        (W_v): Linear(in_features=512, out_features=512, bias=True)\n        (W_o): Linear(in_features=512, out_features=512, bias=True)\n      )\n      (cross_attn): MultiHeadAttention(\n        (W_q): Linear(in_features=512, out_features=512, bias=True)\n        (W_k): Linear(in_features=512, out_features=512, bias=True)\n        (W_v): Linear(in_features=512, out_features=512, bias=True)\n        (W_o): Linear(in_features=512, out_features=512, bias=True)\n      )\n      (feed_forward): PositionWiseFeedForward(\n        (fc1): Linear(in_features=512, out_features=2048, bias=True)\n        (fc2): Linear(in_features=2048, out_features=512, bias=True)\n      )\n      (norm1): LayerNorm((512,), eps=1e-05, elementwise_affine=True)\n      (norm2): LayerNorm((512,), eps=1e-05, elementwise_affine=True)\n      (norm3): LayerNorm((512,), eps=1e-05, elementwise_affine=True)\n      (dropout): Dropout(p=0.1, inplace=False)\n    )\n  )\n  (fc): Linear(in_features=512, out_features=27637, bias=True)\n  (dropout): Dropout(p=0.1, inplace=False)\n)\n",
          "output_type": "stream"
        }
      ],
      "execution_count": null
    },
    {
      "cell_type": "code",
      "source": [
        "trainable_params = sum(p.numel() for p in model.parameters() if p.requires_grad)\n",
        "print(trainable_params)"
      ],
      "metadata": {
        "trusted": true,
        "execution": {
          "iopub.status.busy": "2024-11-27T02:58:25.655516Z",
          "iopub.execute_input": "2024-11-27T02:58:25.655768Z",
          "iopub.status.idle": "2024-11-27T02:58:25.661297Z",
          "shell.execute_reply.started": "2024-11-27T02:58:25.655744Z",
          "shell.execute_reply": "2024-11-27T02:58:25.660452Z"
        },
        "id": "lZ6DX-6fGW6u",
        "outputId": "05eea4be-2b7a-434c-e9e4-6dde61e3649f"
      },
      "outputs": [
        {
          "name": "stdout",
          "text": "86616565\n",
          "output_type": "stream"
        }
      ],
      "execution_count": null
    },
    {
      "cell_type": "markdown",
      "source": [
        "<h2>Specify optimizer and loss function</h2>\n"
      ],
      "metadata": {
        "id": "5NxoZil7T3D2"
      }
    },
    {
      "cell_type": "code",
      "source": [
        "# Specify optimizer and loss function\n",
        "criterion = nn.CrossEntropyLoss(ignore_index=0)\n",
        "optimizer = optim.Adam(model.parameters(), lr=0.0001, betas=(0.9, 0.98), eps=1e-9)\n",
        "scheduler = torch.optim.lr_scheduler.CosineAnnealingLR(optimizer, T_max=10, eta_min=0)"
      ],
      "metadata": {
        "trusted": true,
        "execution": {
          "iopub.status.busy": "2024-11-27T02:58:25.662222Z",
          "iopub.execute_input": "2024-11-27T02:58:25.662479Z",
          "iopub.status.idle": "2024-11-27T02:58:26.559894Z",
          "shell.execute_reply.started": "2024-11-27T02:58:25.662456Z",
          "shell.execute_reply": "2024-11-27T02:58:26.559184Z"
        },
        "id": "zTvObGgTGW6u"
      },
      "outputs": [],
      "execution_count": null
    },
    {
      "cell_type": "markdown",
      "source": [
        "<h2>Create dataloaders</h2>\n"
      ],
      "metadata": {
        "id": "8LX4wqLCT5ZN"
      }
    },
    {
      "cell_type": "code",
      "source": [
        "# Create dataloaders\n",
        "train_loader = DataLoader(train_dataset, batch_size=4, shuffle=True, collate_fn=collate_fn, num_workers=num_workers)\n",
        "test_loader = DataLoader(test_dataset, batch_size=4, shuffle=False, collate_fn=collate_fn, num_workers=num_workers)"
      ],
      "metadata": {
        "trusted": true,
        "execution": {
          "iopub.status.busy": "2024-11-27T02:58:26.560965Z",
          "iopub.execute_input": "2024-11-27T02:58:26.561582Z",
          "iopub.status.idle": "2024-11-27T02:58:26.566676Z",
          "shell.execute_reply.started": "2024-11-27T02:58:26.561542Z",
          "shell.execute_reply": "2024-11-27T02:58:26.565753Z"
        },
        "id": "xeK01mMDGW6u"
      },
      "outputs": [],
      "execution_count": null
    },
    {
      "cell_type": "code",
      "source": [
        "source_dummy,target_dummy = next(iter(train_loader))\n"
      ],
      "metadata": {
        "trusted": true,
        "execution": {
          "iopub.status.busy": "2024-11-27T02:58:26.567831Z",
          "iopub.execute_input": "2024-11-27T02:58:26.568203Z",
          "iopub.status.idle": "2024-11-27T02:58:26.678256Z",
          "shell.execute_reply.started": "2024-11-27T02:58:26.568165Z",
          "shell.execute_reply": "2024-11-27T02:58:26.677037Z"
        },
        "id": "qY1N_q6BGW6u"
      },
      "outputs": [],
      "execution_count": null
    },
    {
      "cell_type": "markdown",
      "source": [
        "<h2>Data Batch Extraction Example</h2>\n"
      ],
      "metadata": {
        "id": "RLHT1AGeT8eV"
      }
    },
    {
      "cell_type": "code",
      "source": [
        "print(source_dummy.shape,target_dummy.shape)\n"
      ],
      "metadata": {
        "trusted": true,
        "execution": {
          "iopub.status.busy": "2024-11-27T02:58:26.679894Z",
          "iopub.execute_input": "2024-11-27T02:58:26.680674Z",
          "iopub.status.idle": "2024-11-27T02:58:26.686096Z",
          "shell.execute_reply.started": "2024-11-27T02:58:26.680628Z",
          "shell.execute_reply": "2024-11-27T02:58:26.685139Z"
        },
        "id": "zoYM1G9_GW6u",
        "outputId": "e8ea254e-3c39-431b-e3a0-95141d7bf749"
      },
      "outputs": [
        {
          "name": "stdout",
          "text": "torch.Size([4, 281]) torch.Size([4, 147])\n",
          "output_type": "stream"
        }
      ],
      "execution_count": null
    },
    {
      "cell_type": "code",
      "source": [
        "print(source_dummy[1])\n"
      ],
      "metadata": {
        "trusted": true,
        "execution": {
          "iopub.status.busy": "2024-11-27T02:58:26.687106Z",
          "iopub.execute_input": "2024-11-27T02:58:26.687357Z",
          "iopub.status.idle": "2024-11-27T02:58:26.702081Z",
          "shell.execute_reply.started": "2024-11-27T02:58:26.687333Z",
          "shell.execute_reply": "2024-11-27T02:58:26.701174Z"
        },
        "id": "yWw10lISGW6u",
        "outputId": "88fe3dc3-8516-4a97-9919-66344e195293"
      },
      "outputs": [
        {
          "name": "stdout",
          "text": "tensor([    1, 12930, 10205,  7693,   244, 18439, 12927, 19019, 15783, 22476,\n         2337, 26069, 18450,   558, 13536,  5549, 23282,  7700, 24884, 16709,\n        21064, 18931,   244, 18439,  6672, 12930, 15448, 12336, 25211, 25914,\n        14027, 16205,  2337,  8615, 24299, 20120,   558,  2823, 20525,  6672,\n        23144,  4879, 22742,  9265,   759,  9452,  1936, 13996, 22717, 17600,\n        14101, 24291, 19019, 15783, 21604, 23428, 15448, 10389, 10512,   198,\n        25763, 19587, 14891, 11022, 12930,  4867,  8397, 16465, 14029,  2969,\n         7386,  5549,  3095, 24360,   914, 21530, 11455,  9259, 23337, 23566,\n         6765,  8623, 10934,  6672, 22742, 15444, 22580,  3402, 20643, 21530,\n        12930,  5444, 13881,  9154, 16933, 22743,  4842, 17107, 20322,  2169,\n         2437,  8715, 11097, 27338,   159, 21247, 13918,  9260, 24938,  1936,\n        13996, 14881,  6765,  8794,  4845,  6849, 22030, 16626,  3402,  7944,\n         6161, 22567, 10934, 12930,  8196, 23179, 10512, 21535, 22030, 24318,\n        19088,   298, 10210, 10721, 10426, 20604, 12930, 15731, 18678,   168,\n        12003, 22902, 17289, 12930,  3401, 16650, 10512,  9452, 17207, 15098,\n        12414, 20525, 14891, 12207,  1666,  1936, 13988, 22717, 17600, 13326,\n        24291, 16205,  2337, 19000, 19187,  5915, 24485,  2690,  8400, 27479,\n         7769, 10205, 18056,  4842, 23143,   759, 19187,  3625, 23144, 25300,\n         7744, 11188, 25397,  1878,  3268,  6297, 12930, 18450, 19680, 16221,\n         2690,  8400, 19060, 12226, 17797,  9410, 18741, 17083, 26195,  8076,\n         5734,  1254, 16182, 10395,  8879,  8141,  5522, 14881, 12930, 19088,\n        27326, 14352, 10512, 23144, 14023, 13155, 14602,  5533, 12229, 24482,\n         5921, 16542,  7759, 21967, 25650,  8945, 26838,  5549, 17171,  8407,\n        27331,  7693, 18096, 19939, 27483, 10721, 12168, 23566, 14551, 26818,\n        11933, 24938,  3401,  5216,  5036,  6833,   914, 19681,  4976, 14437,\n        23144, 23511, 12928,  6834, 21517,   179, 26183,  5674,  3686, 27201,\n        18303, 16456, 10721, 21530, 16010,  5522,  8446, 21239,  3107, 12930,\n         7700, 13262, 10904,  5216, 23144,   179, 25593, 24799, 12930,  7700,\n            0])\n",
          "output_type": "stream"
        }
      ],
      "execution_count": null
    },
    {
      "cell_type": "code",
      "source": [
        "print(torch.min(target_dummy),torch.max(target_dummy))\n"
      ],
      "metadata": {
        "trusted": true,
        "execution": {
          "iopub.status.busy": "2024-11-27T02:58:26.702926Z",
          "iopub.execute_input": "2024-11-27T02:58:26.703189Z",
          "iopub.status.idle": "2024-11-27T02:58:26.711066Z",
          "shell.execute_reply.started": "2024-11-27T02:58:26.703142Z",
          "shell.execute_reply": "2024-11-27T02:58:26.710351Z"
        },
        "id": "tgTSRsGKGW6u",
        "outputId": "675efb5c-4486-433c-86de-c51074db50a9"
      },
      "outputs": [
        {
          "name": "stdout",
          "text": "tensor(0) tensor(27529)\n",
          "output_type": "stream"
        }
      ],
      "execution_count": null
    },
    {
      "cell_type": "code",
      "source": [
        "model.to(device)\n",
        "source_dummy = source_dummy.to(device)\n",
        "target_dummy = target_dummy.to(device)\n",
        "print()"
      ],
      "metadata": {
        "trusted": true,
        "execution": {
          "iopub.status.busy": "2024-11-27T02:58:26.712100Z",
          "iopub.execute_input": "2024-11-27T02:58:26.712424Z",
          "iopub.status.idle": "2024-11-27T02:58:26.971655Z",
          "shell.execute_reply.started": "2024-11-27T02:58:26.712397Z",
          "shell.execute_reply": "2024-11-27T02:58:26.970790Z"
        },
        "id": "t0iVdO7rGW6u",
        "outputId": "dc5ffded-e691-4979-c8e6-db019e3696ad"
      },
      "outputs": [
        {
          "name": "stdout",
          "text": "\n",
          "output_type": "stream"
        }
      ],
      "execution_count": null
    },
    {
      "cell_type": "code",
      "source": [
        "y_pred = model(source_dummy,target_dummy)\n",
        "print(y_pred.shape,target_dummy.shape)"
      ],
      "metadata": {
        "trusted": true,
        "execution": {
          "iopub.status.busy": "2024-11-27T02:58:26.972834Z",
          "iopub.execute_input": "2024-11-27T02:58:26.973172Z",
          "iopub.status.idle": "2024-11-27T02:58:27.365102Z",
          "shell.execute_reply.started": "2024-11-27T02:58:26.973143Z",
          "shell.execute_reply": "2024-11-27T02:58:27.364141Z"
        },
        "id": "bSrzEXnIGW6u",
        "outputId": "0efff615-df56-4701-f381-27b8facde307"
      },
      "outputs": [
        {
          "name": "stdout",
          "text": "torch.Size([4, 147, 27637]) torch.Size([4, 147])\n",
          "output_type": "stream"
        }
      ],
      "execution_count": null
    },
    {
      "cell_type": "code",
      "source": [
        "y_pred = y_pred.reshape(-1,len(target_vocab))\n",
        "target_dummy = target_dummy.reshape(-1)\n",
        "print(y_pred.shape,target_dummy.shape)"
      ],
      "metadata": {
        "trusted": true,
        "execution": {
          "iopub.status.busy": "2024-11-27T02:58:27.366005Z",
          "iopub.execute_input": "2024-11-27T02:58:27.366296Z",
          "iopub.status.idle": "2024-11-27T02:58:27.370876Z",
          "shell.execute_reply.started": "2024-11-27T02:58:27.366269Z",
          "shell.execute_reply": "2024-11-27T02:58:27.369962Z"
        },
        "id": "KCwzCy-HGW6z",
        "outputId": "46798cd2-ce75-4e07-a832-fd08ab44cd19"
      },
      "outputs": [
        {
          "name": "stdout",
          "text": "torch.Size([588, 27637]) torch.Size([588])\n",
          "output_type": "stream"
        }
      ],
      "execution_count": null
    },
    {
      "cell_type": "markdown",
      "source": [
        "<h2>Install the required Dependencies</h2>"
      ],
      "metadata": {
        "id": "escmijMgUE1l"
      }
    },
    {
      "cell_type": "code",
      "source": [
        "!pip install rouge-score bert-score nltk"
      ],
      "metadata": {
        "trusted": true,
        "execution": {
          "iopub.status.busy": "2024-11-27T02:58:27.371915Z",
          "iopub.execute_input": "2024-11-27T02:58:27.372157Z",
          "iopub.status.idle": "2024-11-27T02:58:37.623061Z",
          "shell.execute_reply.started": "2024-11-27T02:58:27.372133Z",
          "shell.execute_reply": "2024-11-27T02:58:37.622155Z"
        },
        "id": "-OeAerqYGW6z",
        "outputId": "fc229ebb-8b63-4f14-94ec-e01dabac3c99"
      },
      "outputs": [
        {
          "name": "stdout",
          "text": "Collecting rouge-score\n  Downloading rouge_score-0.1.2.tar.gz (17 kB)\n  Preparing metadata (setup.py) ... \u001b[?25ldone\n\u001b[?25hCollecting bert-score\n  Downloading bert_score-0.3.13-py3-none-any.whl.metadata (15 kB)\nRequirement already satisfied: nltk in /opt/conda/lib/python3.10/site-packages (3.2.4)\nRequirement already satisfied: absl-py in /opt/conda/lib/python3.10/site-packages (from rouge-score) (1.4.0)\nRequirement already satisfied: numpy in /opt/conda/lib/python3.10/site-packages (from rouge-score) (1.26.4)\nRequirement already satisfied: six>=1.14.0 in /opt/conda/lib/python3.10/site-packages (from rouge-score) (1.16.0)\nRequirement already satisfied: torch>=1.0.0 in /opt/conda/lib/python3.10/site-packages (from bert-score) (2.4.0)\nRequirement already satisfied: pandas>=1.0.1 in /opt/conda/lib/python3.10/site-packages (from bert-score) (2.2.2)\nRequirement already satisfied: transformers>=3.0.0 in /opt/conda/lib/python3.10/site-packages (from bert-score) (4.45.1)\nRequirement already satisfied: requests in /opt/conda/lib/python3.10/site-packages (from bert-score) (2.32.3)\nRequirement already satisfied: tqdm>=4.31.1 in /opt/conda/lib/python3.10/site-packages (from bert-score) (4.66.4)\nRequirement already satisfied: matplotlib in /opt/conda/lib/python3.10/site-packages (from bert-score) (3.7.5)\nRequirement already satisfied: packaging>=20.9 in /opt/conda/lib/python3.10/site-packages (from bert-score) (21.3)\nRequirement already satisfied: pyparsing!=3.0.5,>=2.0.2 in /opt/conda/lib/python3.10/site-packages (from packaging>=20.9->bert-score) (3.1.2)\nRequirement already satisfied: python-dateutil>=2.8.2 in /opt/conda/lib/python3.10/site-packages (from pandas>=1.0.1->bert-score) (2.9.0.post0)\nRequirement already satisfied: pytz>=2020.1 in /opt/conda/lib/python3.10/site-packages (from pandas>=1.0.1->bert-score) (2024.1)\nRequirement already satisfied: tzdata>=2022.7 in /opt/conda/lib/python3.10/site-packages (from pandas>=1.0.1->bert-score) (2024.1)\nRequirement already satisfied: filelock in /opt/conda/lib/python3.10/site-packages (from torch>=1.0.0->bert-score) (3.15.1)\nRequirement already satisfied: typing-extensions>=4.8.0 in /opt/conda/lib/python3.10/site-packages (from torch>=1.0.0->bert-score) (4.12.2)\nRequirement already satisfied: sympy in /opt/conda/lib/python3.10/site-packages (from torch>=1.0.0->bert-score) (1.13.3)\nRequirement already satisfied: networkx in /opt/conda/lib/python3.10/site-packages (from torch>=1.0.0->bert-score) (3.3)\nRequirement already satisfied: jinja2 in /opt/conda/lib/python3.10/site-packages (from torch>=1.0.0->bert-score) (3.1.4)\nRequirement already satisfied: fsspec in /opt/conda/lib/python3.10/site-packages (from torch>=1.0.0->bert-score) (2024.6.1)\nRequirement already satisfied: huggingface-hub<1.0,>=0.23.2 in /opt/conda/lib/python3.10/site-packages (from transformers>=3.0.0->bert-score) (0.25.1)\nRequirement already satisfied: pyyaml>=5.1 in /opt/conda/lib/python3.10/site-packages (from transformers>=3.0.0->bert-score) (6.0.2)\nRequirement already satisfied: regex!=2019.12.17 in /opt/conda/lib/python3.10/site-packages (from transformers>=3.0.0->bert-score) (2024.5.15)\nRequirement already satisfied: safetensors>=0.4.1 in /opt/conda/lib/python3.10/site-packages (from transformers>=3.0.0->bert-score) (0.4.5)\nRequirement already satisfied: tokenizers<0.21,>=0.20 in /opt/conda/lib/python3.10/site-packages (from transformers>=3.0.0->bert-score) (0.20.0)\nRequirement already satisfied: contourpy>=1.0.1 in /opt/conda/lib/python3.10/site-packages (from matplotlib->bert-score) (1.2.1)\nRequirement already satisfied: cycler>=0.10 in /opt/conda/lib/python3.10/site-packages (from matplotlib->bert-score) (0.12.1)\nRequirement already satisfied: fonttools>=4.22.0 in /opt/conda/lib/python3.10/site-packages (from matplotlib->bert-score) (4.53.0)\nRequirement already satisfied: kiwisolver>=1.0.1 in /opt/conda/lib/python3.10/site-packages (from matplotlib->bert-score) (1.4.5)\nRequirement already satisfied: pillow>=6.2.0 in /opt/conda/lib/python3.10/site-packages (from matplotlib->bert-score) (10.3.0)\nRequirement already satisfied: charset-normalizer<4,>=2 in /opt/conda/lib/python3.10/site-packages (from requests->bert-score) (3.3.2)\nRequirement already satisfied: idna<4,>=2.5 in /opt/conda/lib/python3.10/site-packages (from requests->bert-score) (3.7)\nRequirement already satisfied: urllib3<3,>=1.21.1 in /opt/conda/lib/python3.10/site-packages (from requests->bert-score) (1.26.18)\nRequirement already satisfied: certifi>=2017.4.17 in /opt/conda/lib/python3.10/site-packages (from requests->bert-score) (2024.8.30)\nRequirement already satisfied: MarkupSafe>=2.0 in /opt/conda/lib/python3.10/site-packages (from jinja2->torch>=1.0.0->bert-score) (2.1.5)\nRequirement already satisfied: mpmath<1.4,>=1.1.0 in /opt/conda/lib/python3.10/site-packages (from sympy->torch>=1.0.0->bert-score) (1.3.0)\nDownloading bert_score-0.3.13-py3-none-any.whl (61 kB)\n\u001b[2K   \u001b[90m━━━━━━━━━━━━━━━━━━━━━━━━━━━━━━━━━━━━━━━━\u001b[0m \u001b[32m61.1/61.1 kB\u001b[0m \u001b[31m2.7 MB/s\u001b[0m eta \u001b[36m0:00:00\u001b[0m\n\u001b[?25hBuilding wheels for collected packages: rouge-score\n  Building wheel for rouge-score (setup.py) ... \u001b[?25ldone\n\u001b[?25h  Created wheel for rouge-score: filename=rouge_score-0.1.2-py3-none-any.whl size=24934 sha256=acbb6dce4837884a5e62a6a20fe83d5c5325baa7a4c44909e833c2cb33c5a327\n  Stored in directory: /root/.cache/pip/wheels/5f/dd/89/461065a73be61a532ff8599a28e9beef17985c9e9c31e541b4\nSuccessfully built rouge-score\nInstalling collected packages: rouge-score, bert-score\nSuccessfully installed bert-score-0.3.13 rouge-score-0.1.2\n",
          "output_type": "stream"
        }
      ],
      "execution_count": null
    },
    {
      "cell_type": "code",
      "source": [
        "from rouge_score import rouge_scorer\n",
        "from bert_score import BERTScorer\n",
        "from nltk.translate.bleu_score import corpus_bleu\n",
        "import nltk\n",
        "\n",
        "# Download necessary NLTK data\n",
        "nltk.download('punkt')"
      ],
      "metadata": {
        "trusted": true,
        "execution": {
          "iopub.status.busy": "2024-11-27T02:58:37.624540Z",
          "iopub.execute_input": "2024-11-27T02:58:37.624864Z",
          "iopub.status.idle": "2024-11-27T02:58:38.975127Z",
          "shell.execute_reply.started": "2024-11-27T02:58:37.624833Z",
          "shell.execute_reply": "2024-11-27T02:58:38.974165Z"
        },
        "id": "dq08jQx7GW6z",
        "outputId": "f247c186-5b11-43fd-ac6b-c4ec39edd7e1"
      },
      "outputs": [
        {
          "name": "stdout",
          "text": "[nltk_data] Downloading package punkt to /usr/share/nltk_data...\n[nltk_data]   Package punkt is already up-to-date!\n",
          "output_type": "stream"
        },
        {
          "execution_count": 41,
          "output_type": "execute_result",
          "data": {
            "text/plain": "True"
          },
          "metadata": {}
        }
      ],
      "execution_count": null
    },
    {
      "cell_type": "code",
      "source": [
        "from sklearn.manifold import TSNE\n",
        "import numpy as np\n",
        "import matplotlib.pyplot as plt"
      ],
      "metadata": {
        "trusted": true,
        "execution": {
          "iopub.status.busy": "2024-11-27T02:58:38.998112Z",
          "iopub.execute_input": "2024-11-27T02:58:38.998369Z",
          "iopub.status.idle": "2024-11-27T02:58:39.107194Z",
          "shell.execute_reply.started": "2024-11-27T02:58:38.998344Z",
          "shell.execute_reply": "2024-11-27T02:58:39.106581Z"
        },
        "id": "GZhONs1QGW6z"
      },
      "outputs": [],
      "execution_count": null
    },
    {
      "cell_type": "code",
      "source": [
        "from rouge_score import rouge_scorer\n",
        "from bert_score import BERTScorer\n",
        "from nltk.translate.bleu_score import corpus_bleu\n",
        "import nltk\n",
        "\n",
        "# Download necessary NLTK data\n",
        "nltk.download('punkt')"
      ],
      "metadata": {
        "trusted": true,
        "execution": {
          "iopub.status.busy": "2024-11-27T02:58:39.159000Z",
          "iopub.execute_input": "2024-11-27T02:58:39.159351Z",
          "iopub.status.idle": "2024-11-27T02:58:39.171636Z",
          "shell.execute_reply.started": "2024-11-27T02:58:39.159309Z",
          "shell.execute_reply": "2024-11-27T02:58:39.170908Z"
        },
        "id": "QZ5MqDq7GW60",
        "outputId": "8ccb1b08-9992-4d2e-ccd1-722118721304"
      },
      "outputs": [
        {
          "name": "stdout",
          "text": "[nltk_data] Downloading package punkt to /usr/share/nltk_data...\n[nltk_data]   Package punkt is already up-to-date!\n",
          "output_type": "stream"
        },
        {
          "execution_count": 50,
          "output_type": "execute_result",
          "data": {
            "text/plain": "True"
          },
          "metadata": {}
        }
      ],
      "execution_count": null
    },
    {
      "cell_type": "markdown",
      "source": [
        "<h2>Define a function to evaluate the model</h2>\n"
      ],
      "metadata": {
        "id": "YMX3fAbxUB5Z"
      }
    },
    {
      "cell_type": "code",
      "source": [
        "from rouge_score import rouge_scorer\n",
        "from nltk.translate.bleu_score import corpus_bleu\n",
        "\n",
        "def evaluate_model(model, test_loader, target_vocab):\n",
        "    model.eval()\n",
        "    hypotheses = []\n",
        "    references = []\n",
        "\n",
        "    reverse_target_vocab = {v: k for k, v in target_vocab.items()}\n",
        "\n",
        "    # Initialize the ROUGE scorer\n",
        "    scorer = rouge_scorer.RougeScorer(['rouge1', 'rouge2', 'rougeL'], use_stemmer=True)\n",
        "\n",
        "    with torch.no_grad():\n",
        "        for source, target in test_loader:\n",
        "            source = source.to(device)\n",
        "            target = target.to(device)\n",
        "\n",
        "            # Generate summary\n",
        "            decoded_sequence = decode_sequence(model, source[0], target_vocab)\n",
        "            hypotheses.append(' '.join(decoded_sequence))\n",
        "\n",
        "            # Convert target tensor to words\n",
        "            target_words = []\n",
        "            for t in target[0]:\n",
        "                idx = t.item()\n",
        "                if idx in reverse_target_vocab:\n",
        "                    target_words.append(reverse_target_vocab[idx])\n",
        "            references.append(' '.join(target_words))\n",
        "\n",
        "    # Calculate ROUGE scores\n",
        "    rouge_scores = {key: {'f': 0, 'p': 0, 'r': 0} for key in ['rouge1', 'rouge2', 'rougeL']}\n",
        "    for hyp, ref in zip(hypotheses, references):\n",
        "        scores = scorer.score(ref, hyp)\n",
        "        for key in scores:\n",
        "            rouge_scores[key]['f'] += scores[key].fmeasure\n",
        "            rouge_scores[key]['p'] += scores[key].precision\n",
        "            rouge_scores[key]['r'] += scores[key].recall\n",
        "\n",
        "    # Average ROUGE scores\n",
        "    n = len(hypotheses)\n",
        "    for key in rouge_scores:\n",
        "        for metric in rouge_scores[key]:\n",
        "            rouge_scores[key][metric] /= n\n",
        "\n",
        "    # Calculate BLEU score\n",
        "    bleu_score = corpus_bleu([[r.split()] for r in references], [h.split() for h in hypotheses])\n",
        "\n",
        "    return rouge_scores, bleu_score"
      ],
      "metadata": {
        "trusted": true,
        "execution": {
          "iopub.status.busy": "2024-11-27T03:03:43.026513Z",
          "iopub.execute_input": "2024-11-27T03:03:43.026901Z",
          "iopub.status.idle": "2024-11-27T03:03:43.036480Z",
          "shell.execute_reply.started": "2024-11-27T03:03:43.026871Z",
          "shell.execute_reply": "2024-11-27T03:03:43.035690Z"
        },
        "id": "bMcHueptGW60"
      },
      "outputs": [],
      "execution_count": null
    },
    {
      "cell_type": "markdown",
      "source": [
        "<h2>Define the training loop</h2>\n"
      ],
      "metadata": {
        "id": "TIc70Kq-ULmX"
      }
    },
    {
      "cell_type": "code",
      "source": [
        "def train_loop(model, dataloader, loss_fun, optimizer, device, scheduler=None, num_epochs=20):\n",
        "    model.train()# Set model to training mode\n",
        "    model.to(device)# Move model to specified device (CPU/GPU)\n",
        "    min_loss = float('inf')\n",
        "\n",
        "    # Lists to store metrics\n",
        "    epoch_losses = []\n",
        "    epoch_accuracies = []\n",
        "\n",
        "    for epoch in range(num_epochs):\n",
        "        losses = []\n",
        "        accuracies = []\n",
        "        loop = tqdm(enumerate(dataloader), total=len(dataloader), leave=True)\n",
        "        for batch, (x, y) in loop:\n",
        "            x = x.to(device)# Move input to device\n",
        "            y = y.to(device)# Move target to device\n",
        "            y_pred = model(x, y) # Forward pass\n",
        "\n",
        "\n",
        "            # Reshape y_pred and y\n",
        "            batch_size, seq_len, vocab_size = y_pred.shape\n",
        "            y_pred = y_pred.reshape(-1, vocab_size)\n",
        "            y = y.reshape(-1)\n",
        "\n",
        "            # Calculate loss & accuracy\n",
        "            loss = loss_fun(y_pred, y)\n",
        "            losses.append(loss.item())\n",
        "            accuracy = check_accuracy(y_pred, y)\n",
        "            accuracies.append(accuracy)\n",
        "\n",
        "            # Backpropagation\n",
        "            optimizer.zero_grad()\n",
        "            loss.backward()\n",
        "            torch.nn.utils.clip_grad_norm_(model.parameters(), max_norm=1.0)\n",
        "            optimizer.step()\n",
        "\n",
        "            if scheduler:\n",
        "                scheduler.step()# Update learning rate\n",
        "\n",
        "            # Update progress bar\n",
        "            loop.set_description(f\"Epoch [{epoch+1}/{num_epochs}]\")\n",
        "            loop.set_postfix(loss=loss.item(), accuracy=accuracy)\n",
        "\n",
        "        # Calculate average loss and accuracy for the epoch\n",
        "        moving_loss = sum(losses) / len(losses)\n",
        "        moving_accuracy = sum(accuracies) / len(accuracies)\n",
        "\n",
        "        # Store epoch metrics (move to CPU if they are tensors)\n",
        "        epoch_losses.append(moving_loss.cpu().item() if isinstance(moving_loss, torch.Tensor) else moving_loss)\n",
        "        epoch_accuracies.append(moving_accuracy.cpu().item() if isinstance(moving_accuracy, torch.Tensor) else moving_accuracy)\n",
        "\n",
        "        # Save checkpoint if loss improved\n",
        "        checkpoint = {\n",
        "            'state_dict': model.state_dict(),\n",
        "            'optimizer': optimizer.state_dict()\n",
        "        }\n",
        "        if moving_loss < min_loss:\n",
        "            min_loss = moving_loss\n",
        "            save_checkpoint(checkpoint)\n",
        "\n",
        "        print(f'Epoch {epoch+1}: Loss = {moving_loss:.4f}, Training Accuracy = {moving_accuracy:.4f}')\n",
        "\n",
        "    return model, epoch_losses, epoch_accuracies"
      ],
      "metadata": {
        "trusted": true,
        "execution": {
          "iopub.status.busy": "2024-11-27T03:03:46.402977Z",
          "iopub.execute_input": "2024-11-27T03:03:46.403361Z",
          "iopub.status.idle": "2024-11-27T03:03:46.412667Z",
          "shell.execute_reply.started": "2024-11-27T03:03:46.403329Z",
          "shell.execute_reply": "2024-11-27T03:03:46.411802Z"
        },
        "id": "fDJ3Wm7tGW60"
      },
      "outputs": [],
      "execution_count": null
    },
    {
      "cell_type": "markdown",
      "source": [
        "<h2>Train the model</h2>\n"
      ],
      "metadata": {
        "id": "nT3Auf3eXUIk"
      }
    },
    {
      "cell_type": "code",
      "source": [
        "loss_fun = nn.CrossEntropyLoss()\n",
        "\n",
        "model, epoch_losses, epoch_accuracies = train_loop(model, train_loader, loss_fun, optimizer, device, scheduler, num_epochs=num_epochs)"
      ],
      "metadata": {
        "trusted": true,
        "execution": {
          "iopub.status.busy": "2024-11-27T03:05:40.582267Z",
          "iopub.execute_input": "2024-11-27T03:05:40.582654Z",
          "iopub.status.idle": "2024-11-27T03:21:39.473804Z",
          "shell.execute_reply.started": "2024-11-27T03:05:40.582625Z",
          "shell.execute_reply": "2024-11-27T03:21:39.472431Z"
        },
        "id": "VcazwNpPGW60",
        "outputId": "5d92ab6c-5c4a-48cc-c361-9379db58710e"
      },
      "outputs": [
        {
          "name": "stderr",
          "text": "Epoch [1/20]: 100%|██████████| 445/445 [00:45<00:00,  9.71it/s, accuracy=tensor(69.1071, device='cuda:0'), loss=3.66]\n",
          "output_type": "stream"
        },
        {
          "name": "stdout",
          "text": "Saving weights-->\nEpoch 1: Loss = 4.6159, Training Accuracy = 55.0106\n",
          "output_type": "stream"
        },
        {
          "name": "stderr",
          "text": "Epoch [2/20]: 100%|██████████| 445/445 [00:44<00:00,  9.95it/s, accuracy=tensor(85.8139, device='cuda:0'), loss=1.76]\n",
          "output_type": "stream"
        },
        {
          "name": "stdout",
          "text": "Saving weights-->\nEpoch 2: Loss = 2.5672, Training Accuracy = 78.0188\n",
          "output_type": "stream"
        },
        {
          "name": "stderr",
          "text": "Epoch [3/20]: 100%|██████████| 445/445 [00:44<00:00,  9.91it/s, accuracy=tensor(85.8108, device='cuda:0'), loss=1.69] \n",
          "output_type": "stream"
        },
        {
          "name": "stdout",
          "text": "Saving weights-->\nEpoch 3: Loss = 1.7541, Training Accuracy = 85.5933\n",
          "output_type": "stream"
        },
        {
          "name": "stderr",
          "text": "Epoch [4/20]: 100%|██████████| 445/445 [00:44<00:00,  9.90it/s, accuracy=tensor(89.2857, device='cuda:0'), loss=1.38] \n",
          "output_type": "stream"
        },
        {
          "name": "stdout",
          "text": "Saving weights-->\nEpoch 4: Loss = 1.3351, Training Accuracy = 89.4476\n",
          "output_type": "stream"
        },
        {
          "name": "stderr",
          "text": "Epoch [5/20]: 100%|██████████| 445/445 [00:45<00:00,  9.85it/s, accuracy=tensor(94.7727, device='cuda:0'), loss=0.682]\n",
          "output_type": "stream"
        },
        {
          "name": "stdout",
          "text": "Saving weights-->\nEpoch 5: Loss = 1.0486, Training Accuracy = 91.9444\n",
          "output_type": "stream"
        },
        {
          "name": "stderr",
          "text": "Epoch [6/20]: 100%|██████████| 445/445 [00:45<00:00,  9.85it/s, accuracy=tensor(93.0451, device='cuda:0'), loss=0.957]\n",
          "output_type": "stream"
        },
        {
          "name": "stdout",
          "text": "Saving weights-->\nEpoch 6: Loss = 0.8569, Training Accuracy = 93.6494\n",
          "output_type": "stream"
        },
        {
          "name": "stderr",
          "text": "Epoch [7/20]: 100%|██████████| 445/445 [00:44<00:00,  9.94it/s, accuracy=tensor(97.8333, device='cuda:0'), loss=0.39] \n",
          "output_type": "stream"
        },
        {
          "name": "stdout",
          "text": "Saving weights-->\nEpoch 7: Loss = 0.7186, Training Accuracy = 94.9618\n",
          "output_type": "stream"
        },
        {
          "name": "stderr",
          "text": "Epoch [8/20]: 100%|██████████| 445/445 [00:45<00:00,  9.80it/s, accuracy=tensor(94.3709, device='cuda:0'), loss=0.783]\n",
          "output_type": "stream"
        },
        {
          "name": "stdout",
          "text": "Saving weights-->\nEpoch 8: Loss = 0.6013, Training Accuracy = 96.1643\n",
          "output_type": "stream"
        },
        {
          "name": "stderr",
          "text": "Epoch [9/20]: 100%|██████████| 445/445 [00:45<00:00,  9.88it/s, accuracy=tensor(98.0769, device='cuda:0'), loss=0.428]\n",
          "output_type": "stream"
        },
        {
          "name": "stdout",
          "text": "Saving weights-->\nEpoch 9: Loss = 0.5097, Training Accuracy = 97.0863\n",
          "output_type": "stream"
        },
        {
          "name": "stderr",
          "text": "Epoch [10/20]: 100%|██████████| 445/445 [00:44<00:00,  9.89it/s, accuracy=tensor(98.0357, device='cuda:0'), loss=0.414]\n",
          "output_type": "stream"
        },
        {
          "name": "stdout",
          "text": "Saving weights-->\nEpoch 10: Loss = 0.4288, Training Accuracy = 97.9113\n",
          "output_type": "stream"
        },
        {
          "name": "stderr",
          "text": "Epoch [11/20]: 100%|██████████| 445/445 [00:44<00:00,  9.91it/s, accuracy=tensor(99.7706, device='cuda:0'), loss=0.162]\n",
          "output_type": "stream"
        },
        {
          "name": "stdout",
          "text": "Saving weights-->\nEpoch 11: Loss = 0.3614, Training Accuracy = 98.6359\n",
          "output_type": "stream"
        },
        {
          "name": "stderr",
          "text": "Epoch [12/20]: 100%|██████████| 445/445 [00:45<00:00,  9.86it/s, accuracy=tensor(99.5714, device='cuda:0'), loss=0.244]  \n",
          "output_type": "stream"
        },
        {
          "name": "stdout",
          "text": "Saving weights-->\nEpoch 12: Loss = 0.3064, Training Accuracy = 99.1928\n",
          "output_type": "stream"
        },
        {
          "name": "stderr",
          "text": "Epoch [13/20]: 100%|██████████| 445/445 [00:45<00:00,  9.86it/s, accuracy=tensor(99.6739, device='cuda:0'), loss=0.147]  \n",
          "output_type": "stream"
        },
        {
          "name": "stdout",
          "text": "Saving weights-->\nEpoch 13: Loss = 0.2573, Training Accuracy = 99.6330\n",
          "output_type": "stream"
        },
        {
          "name": "stderr",
          "text": "Epoch [14/20]: 100%|██████████| 445/445 [00:44<00:00,  9.92it/s, accuracy=tensor(100.0000, device='cuda:0'), loss=0.153] \n",
          "output_type": "stream"
        },
        {
          "name": "stdout",
          "text": "Saving weights-->\nEpoch 14: Loss = 0.2173, Training Accuracy = 99.8282\n",
          "output_type": "stream"
        },
        {
          "name": "stderr",
          "text": "Epoch [15/20]: 100%|██████████| 445/445 [00:44<00:00,  9.90it/s, accuracy=tensor(100.0000, device='cuda:0'), loss=0.298] \n",
          "output_type": "stream"
        },
        {
          "name": "stdout",
          "text": "Saving weights-->\nEpoch 15: Loss = 0.1801, Training Accuracy = 99.9377\n",
          "output_type": "stream"
        },
        {
          "name": "stderr",
          "text": "Epoch [16/20]: 100%|██████████| 445/445 [00:44<00:00,  9.90it/s, accuracy=tensor(100., device='cuda:0'), loss=0.181]     \n",
          "output_type": "stream"
        },
        {
          "name": "stdout",
          "text": "Saving weights-->\nEpoch 16: Loss = 0.1492, Training Accuracy = 99.9764\n",
          "output_type": "stream"
        },
        {
          "name": "stderr",
          "text": "Epoch [17/20]: 100%|██████████| 445/445 [00:45<00:00,  9.86it/s, accuracy=tensor(100., device='cuda:0'), loss=0.158]     \n",
          "output_type": "stream"
        },
        {
          "name": "stdout",
          "text": "Saving weights-->\nEpoch 17: Loss = 0.1211, Training Accuracy = 99.9913\n",
          "output_type": "stream"
        },
        {
          "name": "stderr",
          "text": "Epoch [18/20]: 100%|██████████| 445/445 [00:45<00:00,  9.87it/s, accuracy=tensor(100., device='cuda:0'), loss=0.112]     \n",
          "output_type": "stream"
        },
        {
          "name": "stdout",
          "text": "Saving weights-->\nEpoch 18: Loss = 0.0998, Training Accuracy = 99.9954\n",
          "output_type": "stream"
        },
        {
          "name": "stderr",
          "text": "Epoch [19/20]: 100%|██████████| 445/445 [00:45<00:00,  9.86it/s, accuracy=tensor(100., device='cuda:0'), loss=0.0282]    \n",
          "output_type": "stream"
        },
        {
          "name": "stdout",
          "text": "Saving weights-->\nEpoch 19: Loss = 0.0789, Training Accuracy = 99.9988\n",
          "output_type": "stream"
        },
        {
          "name": "stderr",
          "text": "Epoch [20/20]: 100%|██████████| 445/445 [00:44<00:00,  9.91it/s, accuracy=tensor(100., device='cuda:0'), loss=0.0964]    \n",
          "output_type": "stream"
        },
        {
          "name": "stdout",
          "text": "Saving weights-->\nEpoch 20: Loss = 0.0625, Training Accuracy = 99.9994\n",
          "output_type": "stream"
        }
      ],
      "execution_count": null
    },
    {
      "cell_type": "markdown",
      "source": [
        "<h2>Plot the Training loss and the Accuracy against the Epochs</h2>\n"
      ],
      "metadata": {
        "id": "u_OPbEhZXYXJ"
      }
    },
    {
      "cell_type": "code",
      "source": [
        "def plot_training_metrics(losses, accuracies):\n",
        "    epochs = range(1, len(losses) + 1)\n",
        "\n",
        "    plt.figure(figsize=(10, 6))\n",
        "    fig, ax1 = plt.subplots()\n",
        "\n",
        "    color = 'tab:red'\n",
        "    ax1.set_xlabel('Epochs')\n",
        "    ax1.set_ylabel('Loss', color=color)\n",
        "    ax1.plot(epochs, losses, color=color, label='Training Loss')\n",
        "    ax1.tick_params(axis='y', labelcolor=color)\n",
        "\n",
        "    ax2 = ax1.twinx()  # instantiate a second axes that shares the same x-axis\n",
        "\n",
        "    color = 'tab:blue'\n",
        "    ax2.set_ylabel('Accuracy', color=color)\n",
        "    ax2.plot(epochs, accuracies, color=color, label='Training Accuracy')\n",
        "    ax2.tick_params(axis='y', labelcolor=color)\n",
        "\n",
        "    plt.title('Training Metrics')\n",
        "    fig.tight_layout()  # otherwise the right y-label is slightly clipped\n",
        "\n",
        "    # Add legend\n",
        "    lines1, labels1 = ax1.get_legend_handles_labels()\n",
        "    lines2, labels2 = ax2.get_legend_handles_labels()\n",
        "    ax1.legend(lines1 + lines2, labels1 + labels2, loc='best')\n",
        "\n",
        "    plt.show()"
      ],
      "metadata": {
        "trusted": true,
        "execution": {
          "iopub.status.busy": "2024-11-27T03:24:25.767772Z",
          "iopub.execute_input": "2024-11-27T03:24:25.768714Z",
          "iopub.status.idle": "2024-11-27T03:24:25.775604Z",
          "shell.execute_reply.started": "2024-11-27T03:24:25.768674Z",
          "shell.execute_reply": "2024-11-27T03:24:25.774583Z"
        },
        "id": "XPKwi9OQGW60"
      },
      "outputs": [],
      "execution_count": null
    },
    {
      "cell_type": "code",
      "source": [
        "plot_training_metrics(epoch_losses, epoch_accuracies)"
      ],
      "metadata": {
        "trusted": true,
        "execution": {
          "iopub.status.busy": "2024-11-27T03:24:29.536608Z",
          "iopub.execute_input": "2024-11-27T03:24:29.537015Z",
          "iopub.status.idle": "2024-11-27T03:24:29.967850Z",
          "shell.execute_reply.started": "2024-11-27T03:24:29.536979Z",
          "shell.execute_reply": "2024-11-27T03:24:29.966763Z"
        },
        "id": "_YMGiGYKGW60",
        "outputId": "51f57205-12d8-4355-9797-ce5be2df1705"
      },
      "outputs": [
        {
          "output_type": "display_data",
          "data": {
            "text/plain": "<Figure size 1000x600 with 0 Axes>"
          },
          "metadata": {}
        },
        {
          "output_type": "display_data",
          "data": {
            "text/plain": "<Figure size 640x480 with 2 Axes>",
            "image/png": "[encoded data removed]"
          },
          "metadata": {}
        }
      ],
      "execution_count": null
    },
    {
      "cell_type": "markdown",
      "source": [
        "<h2>Define a function to test the data</h2>\n"
      ],
      "metadata": {
        "id": "qsuvAahPXfub"
      }
    },
    {
      "cell_type": "code",
      "source": [
        "import nltk\n",
        "from nltk.translate.bleu_score import sentence_bleu\n",
        "from rouge_score import rouge_scorer\n",
        "import torch\n",
        "from tqdm import tqdm\n",
        "def test_loop(model, dataloader, loss_fun, device, tokenizer):\n",
        "    model.eval()\n",
        "    model.to(device)\n",
        "    losses = []\n",
        "\n",
        "    # Initialize ROUGE scorer\n",
        "    rouge_scorer_obj = rouge_scorer.RougeScorer(['rouge1', 'rouge2', 'rougeL'], use_stemmer=True)\n",
        "\n",
        "    # Lists to store ROUGE and BLEU scores\n",
        "    rouge_scores = {'rouge1': [], 'rouge2': [], 'rougeL': []}\n",
        "    bleu_scores = []\n",
        "\n",
        "    loop = tqdm(enumerate(dataloader), total=len(dataloader), leave=True)\n",
        "\n",
        "    with torch.no_grad():\n",
        "        for batch, (x, y) in loop:\n",
        "            # Put on device\n",
        "            x = x.to(device)\n",
        "            y = y.to(device)\n",
        "\n",
        "            # Forward pass\n",
        "            y_pred = model(x, y)\n",
        "\n",
        "            # Reshape tensors\n",
        "            batch_size, seq_len, vocab_size = y_pred.shape\n",
        "            y_pred = y_pred.contiguous().view(-1, vocab_size)\n",
        "            y = y.contiguous().view(-1)\n",
        "\n",
        "            # Calculate test loss\n",
        "            loss = loss_fun(y_pred, y)\n",
        "            losses.append(loss.item())\n",
        "\n",
        "            # Get predicted token indices\n",
        "            pred_indices = torch.argmax(y_pred, dim=-1).view(batch_size, seq_len)\n",
        "\n",
        "            # Decode predictions and references\n",
        "            pred_summaries = decode_batch(x, pred_indices, tokenizer)\n",
        "            ref_summaries = decode_batch(x, y.view(batch_size, seq_len), tokenizer)\n",
        "\n",
        "            # Calculate ROUGE and BLEU scores\n",
        "            for pred, ref in zip(pred_summaries, ref_summaries):\n",
        "                # ROUGE scores\n",
        "                scores = rouge_scorer_obj.score(ref, pred)\n",
        "                for key in rouge_scores:\n",
        "                    rouge_scores[key].append(scores[key].fmeasure)\n",
        "\n",
        "                # BLEU score\n",
        "                bleu_scores.append(sentence_bleu([ref.split()], pred.split()))\n",
        "\n",
        "            # Update TQDM progress bar\n",
        "            loop.set_postfix(loss=loss.item())\n",
        "\n",
        "    # Calculate final metrics\n",
        "    avg_loss = sum(losses) / len(losses)\n",
        "    final_rouge_scores = {key: sum(scores) / len(scores) for key, scores in rouge_scores.items()}\n",
        "    final_bleu_score = sum(bleu_scores) / len(bleu_scores)\n",
        "\n",
        "    print(f\"Average Test Loss: {avg_loss:.4f}\")\n",
        "    print(f\"ROUGE Scores:\")\n",
        "    for key, value in final_rouge_scores.items():\n",
        "        print(f\"  {key}: {value:.4f}\")\n",
        "    print(f\"Average BLEU Score: {final_bleu_score:.4f}\")\n",
        "\n",
        "    return avg_loss, final_rouge_scores, final_bleu_score\n",
        "\n",
        "def decode_batch(x, token_ids, tokenizer):\n",
        "    if isinstance(token_ids, torch.Tensor):\n",
        "        token_ids = token_ids.cpu().numpy()\n",
        "    if isinstance(x, torch.Tensor):\n",
        "        x = x.cpu().numpy()\n",
        "\n",
        "    decoded = []\n",
        "    for input_seq, pred_seq in zip(x, token_ids):\n",
        "        # Convert input sequence to string\n",
        "        input_text = ' '.join(map(str, input_seq))\n",
        "        # Tokenize the input sequence\n",
        "        tokens = [token.text for token in tokenizer(input_text)]\n",
        "        # Map predicted indices to tokens\n",
        "        pred_tokens = [tokens[i] if i < len(tokens) else '' for i in pred_seq]\n",
        "        # Join tokens into a string\n",
        "        decoded.append(' '.join(pred_tokens))\n",
        "\n",
        "    return decoded"
      ],
      "metadata": {
        "trusted": true,
        "execution": {
          "iopub.status.busy": "2024-11-27T03:24:32.793509Z",
          "iopub.execute_input": "2024-11-27T03:24:32.793857Z",
          "iopub.status.idle": "2024-11-27T03:24:32.806995Z",
          "shell.execute_reply.started": "2024-11-27T03:24:32.793826Z",
          "shell.execute_reply": "2024-11-27T03:24:32.806025Z"
        },
        "id": "z-hwBZAjGW60"
      },
      "outputs": [],
      "execution_count": null
    },
    {
      "cell_type": "markdown",
      "source": [
        "<h2>Calcualate the ROUGE and BLEU scores for Text Summarization task</h2>\n"
      ],
      "metadata": {
        "id": "Ry665RypXkoY"
      }
    },
    {
      "cell_type": "code",
      "source": [
        "# Call the test_loop function\n",
        "avg_loss, rouge_scores, bleu_score = test_loop(model, test_loader, loss_fun, device, tokenizer)"
      ],
      "metadata": {
        "trusted": true,
        "execution": {
          "iopub.status.busy": "2024-11-27T03:25:20.364883Z",
          "iopub.execute_input": "2024-11-27T03:25:20.365689Z",
          "iopub.status.idle": "2024-11-27T03:25:25.685415Z",
          "shell.execute_reply.started": "2024-11-27T03:25:20.365653Z",
          "shell.execute_reply": "2024-11-27T03:25:25.684345Z"
        },
        "id": "3ykhAMELGW61",
        "outputId": "e96e4c4c-2f76-4f5d-d788-93aeae847205"
      },
      "outputs": [
        {
          "name": "stderr",
          "text": "100%|██████████| 112/112 [00:05<00:00, 21.33it/s, loss=0.228] ",
          "output_type": "stream"
        },
        {
          "name": "stdout",
          "text": "Average Test Loss: 0.5226\nROUGE Scores:\n  rouge1: 0.9913\n  rouge2: 0.9708\n  rougeL: 0.9913\nAverage BLEU Score: 0.9814\n",
          "output_type": "stream"
        },
        {
          "name": "stderr",
          "text": "\n",
          "output_type": "stream"
        }
      ],
      "execution_count": null
    }
  ]
}
